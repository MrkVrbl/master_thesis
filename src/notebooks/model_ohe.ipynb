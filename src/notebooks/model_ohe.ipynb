{
 "cells": [
  {
   "cell_type": "code",
   "execution_count": 109,
   "metadata": {},
   "outputs": [],
   "source": [
    "import numpy as np\n",
    "import pandas as pd\n",
    "from pathlib import Path\n",
    "import math\n",
    "import os\n",
    "\n",
    "from tokenizers import Tokenizer, normalizers, models, pre_tokenizers, decoders, trainers, processors\n",
    "\n",
    "import torch\n",
    "import torch.nn as nn\n",
    "import torch.nn.functional as F\n",
    "from torch.utils.data import DataLoader, Dataset, SubsetRandomSampler\n",
    "from torchvision import transforms\n",
    "from torchmetrics import AUROC, Accuracy\n",
    "from torch.optim.lr_scheduler import LambdaLR\n",
    "from sklearn.model_selection import train_test_split\n",
    "\n",
    "from pytorch_lightning import Trainer\n",
    "from pytorch_lightning.tuner.tuning import Tuner \n",
    "import pytorch_lightning as pl\n",
    "from pytorch_lightning.callbacks import LearningRateMonitor, ModelCheckpoint, EarlyStopping, StochasticWeightAveraging\n",
    "from pytorch_lightning.loggers.neptune import NeptuneLogger\n",
    "import neptune.new as neptune\n",
    "\n",
    "from data_processing.utils import *"
   ]
  },
  {
   "cell_type": "code",
   "execution_count": 110,
   "metadata": {},
   "outputs": [],
   "source": [
    "class Rbp24Dataset(Dataset):\n",
    "\n",
    "    def __init__(self, df, transform=None):\n",
    "        self.df = df\n",
    "        self.transform = transform\n",
    "\n",
    "    def __len__(self):\n",
    "        return len(self.df)\n",
    "\n",
    "    def __getitem__(self, idx):\n",
    "\n",
    "        df = self.df\n",
    "        seq = df['seq'][idx].upper()\n",
    "        label = df['label'][idx]\n",
    "\n",
    "        sample = {'seq':seq, 'label':label}\n",
    "\n",
    "        if self.transform:\n",
    "            sample = self.transform(sample)\n",
    "        \n",
    "        return sample\n",
    "\n",
    "class ToOHE(object):\n",
    "    \"Convert seq to One Hot Encoding, convert both seq and label to Tensors\"\n",
    "\n",
    "    def __call__(self, sample):\n",
    "\n",
    "        seq, label = sample['seq'], sample['label']\n",
    "\n",
    "        nucleotid = {'A':[1,0,0,0],'C':[0,1,0,0],'G':[0,0,1,0],'T':[0,0,0,1], '':[0,0,0,0], 'N':[0.25,0.25,0.25,0.25]}\n",
    "        seq = np.array([nucleotid[x] for x in seq])\n",
    "\n",
    "        sample = {'seq': torch.from_numpy(seq).float().permute(1,0),\n",
    "                  'label': torch.tensor(label)}\n",
    "        \n",
    "        return sample\n",
    "        "
   ]
  },
  {
   "cell_type": "code",
   "execution_count": 111,
   "metadata": {},
   "outputs": [],
   "source": [
    "def scaled_dot_product(q, k, v, mask=None):\n",
    "    d_k = q.size()[-1]\n",
    "    attn_logits = torch.matmul(q, k.transpose(-2, -1))\n",
    "    attn_logits = attn_logits / math.sqrt(d_k)\n",
    "    if mask is not None:\n",
    "        attn_logits = attn_logits.masked_fill(mask == 0, -9e15)\n",
    "    attention = F.softmax(attn_logits, dim=-1)\n",
    "    values = torch.matmul(attention, v)\n",
    "    return values, attention\n",
    "\n",
    "class MultiheadAttention(pl.LightningModule):\n",
    "\n",
    "    def __init__(self, input_dim, embed_dim, num_heads):\n",
    "        super().__init__()\n",
    "        assert embed_dim % num_heads == 0, \"Embedding dimension must be 0 modulo number of heads.\"\n",
    "\n",
    "        self.embed_dim = embed_dim\n",
    "        self.num_heads = num_heads\n",
    "        self.head_dim = embed_dim // num_heads\n",
    "\n",
    "        # Stack all weight matrices 1...h together for efficiency\n",
    "        # Note that in many implementations you see \"bias=False\" which is optional\n",
    "        self.qkv_proj = nn.Linear(input_dim, 3*embed_dim)\n",
    "        self.o_proj = nn.Linear(embed_dim, embed_dim)\n",
    "\n",
    "        self._reset_parameters()\n",
    "\n",
    "    def _reset_parameters(self):\n",
    "        # Original Transformer initialization, see PyTorch documentation\n",
    "        nn.init.xavier_uniform_(self.qkv_proj.weight)\n",
    "        self.qkv_proj.bias.data.fill_(0)\n",
    "        nn.init.xavier_uniform_(self.o_proj.weight)\n",
    "        self.o_proj.bias.data.fill_(0)\n",
    "\n",
    "    def forward(self, x, mask=None, return_attention=False):\n",
    "        batch_size, seq_length, embed_dim = x.size()\n",
    "        qkv = self.qkv_proj(x)\n",
    "\n",
    "        # Separate Q, K, V from linear output\n",
    "        qkv = qkv.reshape(batch_size, seq_length, self.num_heads, 3*self.head_dim)\n",
    "        qkv = qkv.permute(0, 2, 1, 3) # [Batch, Head, SeqLen, Dims]\n",
    "        q, k, v = qkv.chunk(3, dim=-1)\n",
    "\n",
    "        # Determine value outputs\n",
    "        values, attention = scaled_dot_product(q, k, v, mask=mask)\n",
    "        values = values.permute(0, 2, 1, 3) # [Batch, SeqLen, Head, Dims]\n",
    "        values = values.reshape(batch_size, seq_length, embed_dim)\n",
    "        o = self.o_proj(values)\n",
    "\n",
    "        if return_attention:\n",
    "            return o, attention\n",
    "        else:\n",
    "            return o"
   ]
  },
  {
   "cell_type": "code",
   "execution_count": 112,
   "metadata": {},
   "outputs": [],
   "source": [
    "class AttnCNN(pl.LightningModule):\n",
    "\n",
    "    def __init__(self, config):\n",
    "        super(AttnCNN, self).__init__() \n",
    "\n",
    "        self.save_hyperparameters(config)\n",
    "\n",
    "        self.learning_rate = self.hparams.learning_rate\n",
    "        self.decay_factor = self.hparams.decay_factor\n",
    "        self.batch_size = self.hparams.batch_size\n",
    "        \n",
    "        self.auroc = AUROC(num_classes=1)\n",
    "        self.acc = Accuracy()\n",
    "\n",
    "        #Emmbeding\n",
    "        self.embedd = nn.Embeddgin()\n",
    "\n",
    "        # conv blocks\n",
    "        self.conv1 = nn.Sequential(\n",
    "            nn.Conv1d(in_channels=4, out_channels=8, kernel_size=self.hparams.CONV1_kernelsize, padding=\"same\"),\n",
    "            nn.ReLU(), \n",
    "            nn.Dropout(0.25))\n",
    "        \n",
    "        self.conv2 = nn.Sequential(\n",
    "            nn.Conv1d(in_channels=8, out_channels=self.hparams.num_channels, kernel_size=8, padding=\"same\"),\n",
    "            nn.ReLU(),\n",
    "            nn.Dropout(0.25),\n",
    "            nn.BatchNorm1d(8))\n",
    "        \n",
    "        self.lstm = torch.nn.LSTM(\n",
    "            input_size=128,\n",
    "            hidden_size=self.hparams.LSTM_kernelsize,\n",
    "            num_layers=1,\n",
    "            dropout=0.25,\n",
    "            bidirectional=True,\n",
    "            batch_first=True)\n",
    "\n",
    "        self.multihead_attn = MultiheadAttention(input_dim=self.hparams.num_channels, embed_dim=self.hparams.num_channels, num_heads=4)\n",
    "\n",
    "        self.conv3 = nn.Conv1d(in_channels=self.hparams.num_channels, out_channels=self.hparams.num_channels // 2, kernel_size=1, padding=0, bias=True)\n",
    "\n",
    "        self.flatten = nn.Flatten()\n",
    "\n",
    "        if self.hparams.DIMRED:\n",
    "            self.hparams.num_channels = self.hparams.num_channels // 2\n",
    "      \n",
    "        if self.hparams.LSTM:\n",
    "            self.linear = nn.Sequential(\n",
    "                nn.Linear(self.hparams.num_channels*self.hparams.LSTM_kernelsize*2, self.hparams.DENSE_kernelsize),\n",
    "                nn.ReLU(),\n",
    "                nn.Dropout(0.25),\n",
    "                nn.BatchNorm1d(self.hparams.DENSE_kernelsize),\n",
    "                nn.Linear(self.hparams.DENSE_kernelsize, 2))\n",
    "        else:\n",
    "            self.linear = nn.Sequential(\n",
    "                nn.Linear(self.hparams.num_channels*128, self.hparams.DENSE_kernelsize),\n",
    "                nn.ReLU(),\n",
    "                nn.Dropout(0.25),\n",
    "                nn.BatchNorm1d(self.hparams.DENSE_kernelsize),\n",
    "                nn.Linear(self.hparams.DENSE_kernelsize, 2))\n",
    "\n",
    "\n",
    "    def forward(self, x):\n",
    "        x = self.conv1(x)\n",
    "        #print(x.shape)\n",
    "        if self.hparams.CONV2:\n",
    "            x = self.conv2(x)\n",
    "            #print(x.shape)\n",
    "        if self.hparams.LSTM:\n",
    "            x,_ = self.lstm(x)\n",
    "            #print(f\"LSTM output: {x.shape}\")\n",
    "        if self.hparams.ATTN:\n",
    "            x = x.permute(0,2,1)\n",
    "            #print(f\"permute output: {x.shape}\")\n",
    "            x = self.multihead_attn(x)\n",
    "            #print(f\"ATTN output: {x.shape}\")\n",
    "            x = x.permute(0,2,1)\n",
    "            #print(f\"permute output: {x.shape}\")\n",
    "        if self.hparams.DIMRED:\n",
    "            x = self.conv3(x)\n",
    "            #print(f\"DimReduction output: {x.shape}\")\n",
    "        x = self.flatten(x)\n",
    "        #print(f\"Flatten output: {x.shape}\")\n",
    "        x = self.linear(x)\n",
    "        #print(x.shape)\n",
    "  \n",
    "        return F.log_softmax(x, dim=-1)\n",
    "\n",
    "\n",
    "    def configure_optimizers(self):\n",
    "        optimizer = torch.optim.Adam(self.parameters(), lr=self.learning_rate)\n",
    "        scheduler = LambdaLR(optimizer, lambda epoch: self.decay_factor ** epoch)\n",
    "        return [optimizer], [scheduler] \n",
    "\n",
    "    def training_step(self, batch, batch_idx):\n",
    "        inputs, labels = batch['seq'], batch['label']\n",
    "        outputs = self(inputs)\n",
    "        preds = torch.max(outputs, 1)[1]\n",
    "\n",
    "        criterion = nn.NLLLoss()\n",
    "        loss = criterion(outputs, labels)\n",
    "\n",
    "        labels = labels.cpu().detach().int()\n",
    "        preds = preds.cpu().detach().int()\n",
    "\n",
    "        train_acc = self.acc(preds, labels)\n",
    "        train_auroc = self.auroc(preds, labels)\n",
    "        \n",
    "        return {\"loss\": loss,\n",
    "                \"train_acc\": train_acc,\n",
    "                \"train_auroc\": train_auroc}\n",
    "                \n",
    "\n",
    "    def training_epoch_end(self, train_step_outputs):\n",
    "        loss = torch.stack([x[\"loss\"] for x in train_step_outputs]).mean()\n",
    "        train_acc_epoch = torch.stack([x[\"train_acc\"] for x in train_step_outputs]).mean()\n",
    "        train_auroc_epoch = torch.stack([x[\"train_auroc\"] for x in train_step_outputs]).mean()\n",
    "        \n",
    "        self.log(\"train/epoch/loss\", loss)\n",
    "        self.log(\"train/epoch/acc\", train_acc_epoch)\n",
    "        self.log(\"train/epoch/auroc\", train_auroc_epoch) \n",
    "    \n",
    "    \n",
    "    def validation_step(self, batch, batch_idx):\n",
    "        inputs, labels = batch['seq'], batch['label']\n",
    "        outputs = self(inputs)\n",
    "\n",
    "        criterion = nn.NLLLoss()\n",
    "        loss = criterion(outputs, labels)\n",
    "\n",
    "        labels = labels.cpu().detach()\n",
    "        preds = torch.max(outputs, 1)[1].cpu().detach()\n",
    "\n",
    "        val_acc = self.acc(preds, labels)\n",
    "        val_auroc = self.auroc(preds, labels)\n",
    "        \n",
    "        return {\"loss\": loss,\n",
    "                \"val_acc\": val_acc,\n",
    "                \"val_auroc\": val_auroc}\n",
    "\n",
    "\n",
    "    def validation_epoch_end(self, val_step_outputs):\n",
    "        loss = torch.stack([x[\"loss\"] for x in val_step_outputs]).mean()\n",
    "        val_acc_epoch = torch.stack([x[\"val_acc\"] for x in val_step_outputs]).mean()\n",
    "        val_auroc_epoch = torch.stack([x[\"val_auroc\"] for x in val_step_outputs]).mean()\n",
    "        \n",
    "        self.log(\"val/epoch/loss\", loss)\n",
    "        self.log(\"val/epoch/acc\", val_acc_epoch)\n",
    "        self.log(\"val/epoch/auroc\", val_auroc_epoch)\n",
    "\n",
    "    \n",
    "    def test_step(self, batch, batch_idx):\n",
    "        inputs, labels = batch['seq'], batch['label']\n",
    "        outputs = self(inputs)\n",
    "\n",
    "        criterion = nn.NLLLoss()\n",
    "        loss = criterion(outputs, labels)\n",
    "\n",
    "        labels = labels.cpu().detach()\n",
    "        preds = torch.max(outputs, 1)[1].cpu().detach()\n",
    "\n",
    "        test_acc = self.acc(preds, labels)\n",
    "        test_auroc = self.auroc(preds, labels)\n",
    "        \n",
    "        return {\"loss\": loss,\n",
    "                \"test_acc\": test_acc,\n",
    "                \"test_auroc\": test_auroc}\n",
    "\n",
    "    def test_epoch_end(self, test_step_outputs):\n",
    "        loss = torch.stack([x[\"loss\"] for x in test_step_outputs]).mean()\n",
    "        test_acc_epoch = torch.stack([x[\"test_acc\"] for x in test_step_outputs]).mean()\n",
    "        test_auroc_epoch = torch.stack([x[\"test_auroc\"] for x in test_step_outputs]).mean()\n",
    "        \n",
    "        self.log(\"test/loss\", loss)\n",
    "        self.log(\"test/acc\", test_acc_epoch)\n",
    "        self.log(\"test/auroc\", test_auroc_epoch)"
   ]
  },
  {
   "cell_type": "code",
   "execution_count": 113,
   "metadata": {},
   "outputs": [],
   "source": [
    "def make_datasets(train_df, test_df, val_size):\n",
    "\n",
    "    trainset = Rbp24Dataset(train_df, transform=transforms.Compose([ToOHE()]))\n",
    "    testset = Rbp24Dataset(test_df, transform=transforms.Compose([ToOHE()]))\n",
    "\n",
    "    train_labels = [int(trainset[i]['label']) for i in range(len(trainset)-1)]\n",
    "    train_idx, val_idx= train_test_split(np.arange(len(train_labels)), test_size=val_size, shuffle=True, stratify=train_labels)\n",
    "\n",
    "    train_sampler = SubsetRandomSampler(train_idx)\n",
    "    val_sampler = SubsetRandomSampler(val_idx)\n",
    "\n",
    "    return trainset, testset, train_sampler, val_sampler\n"
   ]
  },
  {
   "cell_type": "code",
   "execution_count": 114,
   "metadata": {},
   "outputs": [],
   "source": [
    "def make_dataloaders(train_df, test_df, batch_size, num_workers, val_split):\n",
    "\n",
    "    trainset, testset, train_sampler, val_sampler = make_datasets(train_df, test_df, val_split)\n",
    "\n",
    "    trainloader = DataLoader(trainset, batch_size=batch_size, num_workers=num_workers, sampler=train_sampler)\n",
    "    valloader = DataLoader(trainset, batch_size=batch_size, num_workers=num_workers, sampler=val_sampler, shuffle=False)\n",
    "    testloader = DataLoader(testset, batch_size=batch_size, num_workers=num_workers, shuffle=False)\n",
    "\n",
    "    return trainloader, valloader, testloader"
   ]
  },
  {
   "cell_type": "code",
   "execution_count": 115,
   "metadata": {},
   "outputs": [],
   "source": [
    "def concatanate(dataframes):\n",
    "    train_df = pd.concat([dataframes[0], dataframes[1]], ignore_index=True).sample(frac=1).reset_index(drop=True)\n",
    "    test_df = pd.concat([dataframes[2], dataframes[3]], ignore_index=True).sample(frac=1).reset_index(drop=True)\n",
    "    return train_df, test_df"
   ]
  },
  {
   "cell_type": "code",
   "execution_count": 122,
   "metadata": {},
   "outputs": [],
   "source": [
    "PARAMS = {\n",
    "        \"CONV1_kernelsize\": 16,\n",
    "        \"CONV2\": True,\n",
    "        \"num_channels\": 8,\n",
    "        \"LSTM\": False,\n",
    "        \"LSTM_kernelsize\": 16,\n",
    "        \"ATTN\": True,\n",
    "        \"DIMRED\": False,\n",
    "        \"DENSE_kernelsize\":256,\n",
    "        \"batch_size\": 64,\n",
    "        \"learning_rate\": 0.003,\n",
    "        \"decay_factor\": 0.95,\n",
    "        \"max_epochs\": 50,\n",
    "        \"num_workers\": 16,\n",
    "        \"val_split\": 0.1\n",
    "    }"
   ]
  },
  {
   "cell_type": "code",
   "execution_count": 123,
   "metadata": {},
   "outputs": [],
   "source": [
    "dataset_path = \"/home/mrkvrbl/Diplomka/Data/rbp24/processed\" #/home/mrkvrbl/Diplomka/Data/rbp31/\n",
    "protein = \"PARCLIP_MOV10_Sievers\"\n",
    "PARAMS['name'] = protein\n",
    "\n",
    "train_path = dataset_path + \"/\" + protein + \"/train/original.tsv.gz\"\n",
    "test_path = dataset_path + \"/\" + protein + \"/test/original.tsv.gz\"\n",
    "\n",
    "train_df = pd.read_csv(train_path, delimiter=\"\\t\", index_col=0, header=0, compression=\"gzip\")\n",
    "test_df = pd.read_csv(test_path, delimiter=\"\\t\", index_col=0, header=0, compression=\"gzip\")\n",
    "\n",
    "trainloader, valloader, testloader = make_dataloaders(train_df, test_df, PARAMS[\"batch_size\"], PARAMS[\"num_workers\"], PARAMS[\"val_split\"])"
   ]
  },
  {
   "cell_type": "code",
   "execution_count": 124,
   "metadata": {},
   "outputs": [],
   "source": [
    "it = iter(trainloader)\n",
    "batch = next(it)\n",
    "seq, label = batch['seq'], batch['label']"
   ]
  },
  {
   "cell_type": "code",
   "execution_count": 126,
   "metadata": {},
   "outputs": [
    {
     "data": {
      "text/plain": [
       "tensor([0, 0, 1, 1, 1, 1, 1, 1, 1, 1, 1, 0, 0, 1, 1, 0, 0, 1, 0, 1, 1, 0, 0, 1,\n",
       "        0, 0, 0, 1, 1, 1, 0, 0, 0, 0, 0, 0, 0, 1, 0, 0, 1, 0, 0, 0, 0, 0, 0, 0,\n",
       "        1, 1, 0, 0, 0, 0, 1, 1, 1, 0, 1, 1, 1, 0, 0, 1])"
      ]
     },
     "execution_count": 126,
     "metadata": {},
     "output_type": "execute_result"
    }
   ],
   "source": [
    "label"
   ]
  },
  {
   "cell_type": "code",
   "execution_count": 10,
   "metadata": {},
   "outputs": [],
   "source": [
    "early_stopping = EarlyStopping('val/epoch/loss', patience=10, check_on_train_epoch_end=False, )\n",
    "\n",
    "checkpoints_path = \"checkpoints/\" + PARAMS[\"name\"]\n",
    "\n",
    "model_checkpoint = ModelCheckpoint(\n",
    "        dirpath=checkpoints_path,\n",
    "        filename=\"{epoch:02d}\",\n",
    "        save_weights_only=True,\n",
    "        save_top_k=-1,\n",
    "        save_last=True,\n",
    "        monitor=\"val/epoch/loss\",\n",
    "        every_n_epochs=1)"
   ]
  },
  {
   "cell_type": "code",
   "execution_count": 11,
   "metadata": {},
   "outputs": [],
   "source": [
    "# create NeptuneLogger\n",
    "#neptune_logger = NeptuneLogger(\n",
    "#    api_key=\"eyJhcGlfYWRkcmVzcyI6Imh0dHBzOi8vYXBwLm5lcHR1bmUuYWkiLCJhcGlfdXJsIjoiaHR0cHM6Ly9hcHAubmVwdHVuZS5haSIsImFwaV9rZXkiOiIxZDI3YzE1Yy0yYzllLTRjM2YtYjk2MS1jNzNiZmI3MzIyNWEifQ==\",  # replace with your own\n",
    "#    project=\"mrkvrbl/MasterThesis\",  # \"<WORKSPACE/PROJECT>\"\n",
    "#    name=PARAMS[\"name\"])"
   ]
  },
  {
   "cell_type": "code",
   "execution_count": 13,
   "metadata": {},
   "outputs": [
    {
     "name": "stderr",
     "output_type": "stream",
     "text": [
      "GPU available: True, used: True\n",
      "TPU available: False, using: 0 TPU cores\n",
      "IPU available: False, using: 0 IPUs\n"
     ]
    }
   ],
   "source": [
    "trainer = Trainer(#logger=neptune_logger,\n",
    "                callbacks=[model_checkpoint, early_stopping],\n",
    "                max_epochs=PARAMS['max_epochs'],\n",
    "                accumulate_grad_batches=1,\n",
    "                gradient_clip_val=0.5,\n",
    "                stochastic_weight_avg=True,\n",
    "                gpus=1)\n",
    "model = AttnCNN(PARAMS)"
   ]
  },
  {
   "cell_type": "code",
   "execution_count": 70,
   "metadata": {},
   "outputs": [
    {
     "name": "stdout",
     "output_type": "stream",
     "text": [
      "https://app.neptune.ai/mrkvrbl/MasterThesis/e/MST-251\n",
      "Remember to stop your run once you’ve finished logging your metadata (https://docs.neptune.ai/api-reference/run#.stop). It will be stopped automatically only when the notebook kernel/interactive console is terminated.\n"
     ]
    }
   ],
   "source": [
    "#neptune_logger.log_model_summary(model=model, max_depth=-1)\n",
    "#neptune_logger.log_hyperparams(params=PARAMS)"
   ]
  },
  {
   "cell_type": "code",
   "execution_count": 14,
   "metadata": {},
   "outputs": [
    {
     "name": "stderr",
     "output_type": "stream",
     "text": [
      "LOCAL_RANK: 0 - CUDA_VISIBLE_DEVICES: [0]\n",
      "\n",
      "  | Name           | Type               | Params\n",
      "------------------------------------------------------\n",
      "0 | auroc          | AUROC              | 0     \n",
      "1 | acc            | Accuracy           | 0     \n",
      "2 | conv1          | Sequential         | 520   \n",
      "3 | conv2          | Sequential         | 536   \n",
      "4 | lstm           | LSTM               | 18.7 K\n",
      "5 | multihead_attn | MultiheadAttention | 288   \n",
      "6 | conv3          | Conv1d             | 36    \n",
      "7 | flatten        | Flatten            | 0     \n",
      "8 | linear         | Sequential         | 263 K \n",
      "------------------------------------------------------\n",
      "283 K     Trainable params\n",
      "0         Non-trainable params\n",
      "283 K     Total params\n",
      "1.134     Total estimated model params size (MB)\n"
     ]
    },
    {
     "name": "stdout",
     "output_type": "stream",
     "text": [
      "Validation sanity check:   0%|          | 0/2 [00:00<?, ?it/s]"
     ]
    },
    {
     "name": "stderr",
     "output_type": "stream",
     "text": [
      "/home/mrkvrbl/miniconda3/envs/diplomka/lib/python3.7/site-packages/pytorch_lightning/trainer/data_loading.py:662: UserWarning: Your `val_dataloader` has `shuffle=True`, it is strongly recommended that you turn this off for val/test/predict dataloaders.\n",
      "  category=UserWarning,\n"
     ]
    },
    {
     "name": "stdout",
     "output_type": "stream",
     "text": [
      "Validation sanity check:  50%|█████     | 1/2 [00:01<00:01,  1.31s/it]"
     ]
    },
    {
     "name": "stderr",
     "output_type": "stream",
     "text": [
      "/home/mrkvrbl/miniconda3/envs/diplomka/lib/python3.7/site-packages/torch/nn/modules/conv.py:298: UserWarning: Using padding='same' with even kernel lengths and odd dilation may require a zero-padded copy of the input be created (Triggered internally at  /opt/conda/conda-bld/pytorch_1639180594101/work/aten/src/ATen/native/Convolution.cpp:647.)\n",
      "  self.padding, self.dilation, self.groups)\n"
     ]
    },
    {
     "name": "stdout",
     "output_type": "stream",
     "text": [
      "Epoch 0:  82%|████████▏ | 172/210 [00:07<00:01, 23.89it/s, loss=0.593, v_num=0]"
     ]
    },
    {
     "name": "stderr",
     "output_type": "stream",
     "text": [
      "/home/mrkvrbl/miniconda3/envs/diplomka/lib/python3.7/site-packages/pytorch_lightning/trainer/trainer.py:688: UserWarning: Detected KeyboardInterrupt, attempting graceful shutdown...\n",
      "  rank_zero_warn(\"Detected KeyboardInterrupt, attempting graceful shutdown...\")\n"
     ]
    },
    {
     "name": "stdout",
     "output_type": "stream",
     "text": [
      "Epoch 0:  82%|████████▏ | 172/210 [00:18<00:04,  9.27it/s, loss=0.593, v_num=0]"
     ]
    }
   ],
   "source": [
    "trainer.fit(model, train_dataloaders=trainloader, val_dataloaders=valloader)"
   ]
  },
  {
   "cell_type": "code",
   "execution_count": 72,
   "metadata": {},
   "outputs": [
    {
     "name": "stderr",
     "output_type": "stream",
     "text": [
      "Restoring states from the checkpoint path at checkpoints/PARCLIP_MOV10_Sievers/epoch=00.ckpt\n",
      "Loaded model weights from checkpoint at checkpoints/PARCLIP_MOV10_Sievers/epoch=00.ckpt\n"
     ]
    },
    {
     "name": "stdout",
     "output_type": "stream",
     "text": [
      "Testing:  88%|████████▊ | 7/8 [00:00<00:00, 11.20it/s]--------------------------------------------------------------------------------\n",
      "DATALOADER:0 TEST RESULTS\n",
      "{'test/acc': 0.6753305196762085,\n",
      " 'test/auroc': 0.6775914430618286,\n",
      " 'test/loss': 0.6066418290138245}\n",
      "--------------------------------------------------------------------------------\n",
      "Testing: 100%|██████████| 8/8 [00:00<00:00,  8.10it/s]\n"
     ]
    },
    {
     "name": "stderr",
     "output_type": "stream",
     "text": [
      "Restoring states from the checkpoint path at checkpoints/PARCLIP_MOV10_Sievers/epoch=01.ckpt\n",
      "Loaded model weights from checkpoint at checkpoints/PARCLIP_MOV10_Sievers/epoch=01.ckpt\n"
     ]
    },
    {
     "name": "stdout",
     "output_type": "stream",
     "text": [
      "Testing: 100%|██████████| 8/8 [00:01<00:00, 10.56it/s]--------------------------------------------------------------------------------\n",
      "DATALOADER:0 TEST RESULTS\n",
      "{'test/acc': 0.7095853090286255,\n",
      " 'test/auroc': 0.7105029821395874,\n",
      " 'test/loss': 0.5574076175689697}\n",
      "--------------------------------------------------------------------------------\n",
      "Testing: 100%|██████████| 8/8 [00:01<00:00,  7.63it/s]\n"
     ]
    },
    {
     "name": "stderr",
     "output_type": "stream",
     "text": [
      "Restoring states from the checkpoint path at checkpoints/PARCLIP_MOV10_Sievers/epoch=02.ckpt\n",
      "Loaded model weights from checkpoint at checkpoints/PARCLIP_MOV10_Sievers/epoch=02.ckpt\n"
     ]
    },
    {
     "name": "stdout",
     "output_type": "stream",
     "text": [
      "Testing: 100%|██████████| 8/8 [00:00<00:00, 10.77it/s]--------------------------------------------------------------------------------\n",
      "DATALOADER:0 TEST RESULTS\n",
      "{'test/acc': 0.7170973420143127,\n",
      " 'test/auroc': 0.7181735038757324,\n",
      " 'test/loss': 0.5509724617004395}\n",
      "--------------------------------------------------------------------------------\n",
      "Testing: 100%|██████████| 8/8 [00:00<00:00,  8.01it/s]\n"
     ]
    },
    {
     "name": "stderr",
     "output_type": "stream",
     "text": [
      "Restoring states from the checkpoint path at checkpoints/PARCLIP_MOV10_Sievers/epoch=03.ckpt\n",
      "Loaded model weights from checkpoint at checkpoints/PARCLIP_MOV10_Sievers/epoch=03.ckpt\n"
     ]
    },
    {
     "name": "stdout",
     "output_type": "stream",
     "text": [
      "Testing: 100%|██████████| 8/8 [00:00<00:00,  9.98it/s]--------------------------------------------------------------------------------\n",
      "DATALOADER:0 TEST RESULTS\n",
      "{'test/acc': 0.7195762991905212,\n",
      " 'test/auroc': 0.7217215895652771,\n",
      " 'test/loss': 0.557011604309082}\n",
      "--------------------------------------------------------------------------------\n",
      "Testing: 100%|██████████| 8/8 [00:01<00:00,  7.85it/s]\n"
     ]
    },
    {
     "name": "stderr",
     "output_type": "stream",
     "text": [
      "Restoring states from the checkpoint path at checkpoints/PARCLIP_MOV10_Sievers/epoch=04.ckpt\n",
      "Loaded model weights from checkpoint at checkpoints/PARCLIP_MOV10_Sievers/epoch=04.ckpt\n"
     ]
    },
    {
     "name": "stdout",
     "output_type": "stream",
     "text": [
      "Testing: 100%|██████████| 8/8 [00:01<00:00, 10.44it/s]--------------------------------------------------------------------------------\n",
      "DATALOADER:0 TEST RESULTS\n",
      "{'test/acc': 0.7131910920143127,\n",
      " 'test/auroc': 0.7153535485267639,\n",
      " 'test/loss': 0.5580605864524841}\n",
      "--------------------------------------------------------------------------------\n",
      "Testing: 100%|██████████| 8/8 [00:01<00:00,  7.48it/s]\n"
     ]
    },
    {
     "name": "stderr",
     "output_type": "stream",
     "text": [
      "Restoring states from the checkpoint path at checkpoints/PARCLIP_MOV10_Sievers/epoch=05.ckpt\n",
      "Loaded model weights from checkpoint at checkpoints/PARCLIP_MOV10_Sievers/epoch=05.ckpt\n"
     ]
    },
    {
     "name": "stdout",
     "output_type": "stream",
     "text": [
      "Testing: 100%|██████████| 8/8 [00:00<00:00, 11.26it/s]--------------------------------------------------------------------------------\n",
      "DATALOADER:0 TEST RESULTS\n",
      "{'test/acc': 0.7017728090286255,\n",
      " 'test/auroc': 0.7024372220039368,\n",
      " 'test/loss': 0.562064528465271}\n",
      "--------------------------------------------------------------------------------\n",
      "Testing: 100%|██████████| 8/8 [00:00<00:00,  8.40it/s]\n"
     ]
    },
    {
     "name": "stderr",
     "output_type": "stream",
     "text": [
      "Restoring states from the checkpoint path at checkpoints/PARCLIP_MOV10_Sievers/epoch=06.ckpt\n",
      "Loaded model weights from checkpoint at checkpoints/PARCLIP_MOV10_Sievers/epoch=06.ckpt\n"
     ]
    },
    {
     "name": "stdout",
     "output_type": "stream",
     "text": [
      "Testing:  88%|████████▊ | 7/8 [00:00<00:00, 11.91it/s]--------------------------------------------------------------------------------\n",
      "DATALOADER:0 TEST RESULTS\n",
      "{'test/acc': 0.7140174508094788,\n",
      " 'test/auroc': 0.7157325744628906,\n",
      " 'test/loss': 0.5470075607299805}\n",
      "--------------------------------------------------------------------------------\n",
      "Testing: 100%|██████████| 8/8 [00:00<00:00,  8.97it/s]\n"
     ]
    },
    {
     "name": "stderr",
     "output_type": "stream",
     "text": [
      "Restoring states from the checkpoint path at checkpoints/PARCLIP_MOV10_Sievers/epoch=07.ckpt\n",
      "Loaded model weights from checkpoint at checkpoints/PARCLIP_MOV10_Sievers/epoch=07.ckpt\n"
     ]
    },
    {
     "name": "stdout",
     "output_type": "stream",
     "text": [
      "Testing: 100%|██████████| 8/8 [00:00<00:00, 11.11it/s]--------------------------------------------------------------------------------\n",
      "DATALOADER:0 TEST RESULTS\n",
      "{'test/acc': 0.716871976852417,\n",
      " 'test/auroc': 0.7191404700279236,\n",
      " 'test/loss': 0.563056230545044}\n",
      "--------------------------------------------------------------------------------\n",
      "Testing: 100%|██████████| 8/8 [00:00<00:00,  8.57it/s]\n"
     ]
    },
    {
     "name": "stderr",
     "output_type": "stream",
     "text": [
      "Restoring states from the checkpoint path at checkpoints/PARCLIP_MOV10_Sievers/epoch=08.ckpt\n",
      "Loaded model weights from checkpoint at checkpoints/PARCLIP_MOV10_Sievers/epoch=08.ckpt\n"
     ]
    },
    {
     "name": "stdout",
     "output_type": "stream",
     "text": [
      "Testing: 100%|██████████| 8/8 [00:00<00:00, 11.55it/s]--------------------------------------------------------------------------------\n",
      "DATALOADER:0 TEST RESULTS\n",
      "{'test/acc': 0.7200270295143127,\n",
      " 'test/auroc': 0.7203802466392517,\n",
      " 'test/loss': 0.54436194896698}\n",
      "--------------------------------------------------------------------------------\n",
      "Testing: 100%|██████████| 8/8 [00:00<00:00,  8.39it/s]\n"
     ]
    },
    {
     "name": "stderr",
     "output_type": "stream",
     "text": [
      "Restoring states from the checkpoint path at checkpoints/PARCLIP_MOV10_Sievers/epoch=09.ckpt\n",
      "Loaded model weights from checkpoint at checkpoints/PARCLIP_MOV10_Sievers/epoch=09.ckpt\n"
     ]
    },
    {
     "name": "stdout",
     "output_type": "stream",
     "text": [
      "Testing:  88%|████████▊ | 7/8 [00:00<00:00, 10.41it/s]--------------------------------------------------------------------------------\n",
      "DATALOADER:0 TEST RESULTS\n",
      "{'test/acc': 0.73046875,\n",
      " 'test/auroc': 0.7324057221412659,\n",
      " 'test/loss': 0.5540257096290588}\n",
      "--------------------------------------------------------------------------------\n",
      "Testing: 100%|██████████| 8/8 [00:01<00:00,  7.51it/s]\n"
     ]
    },
    {
     "name": "stderr",
     "output_type": "stream",
     "text": [
      "Restoring states from the checkpoint path at checkpoints/PARCLIP_MOV10_Sievers/epoch=10.ckpt\n",
      "Loaded model weights from checkpoint at checkpoints/PARCLIP_MOV10_Sievers/epoch=10.ckpt\n"
     ]
    },
    {
     "name": "stdout",
     "output_type": "stream",
     "text": [
      "Testing: 100%|██████████| 8/8 [00:00<00:00, 10.66it/s]--------------------------------------------------------------------------------\n",
      "DATALOADER:0 TEST RESULTS\n",
      "{'test/acc': 0.7122145295143127,\n",
      " 'test/auroc': 0.7132553458213806,\n",
      " 'test/loss': 0.5491184592247009}\n",
      "--------------------------------------------------------------------------------\n",
      "Testing: 100%|██████████| 8/8 [00:01<00:00,  7.88it/s]\n"
     ]
    },
    {
     "name": "stderr",
     "output_type": "stream",
     "text": [
      "Restoring states from the checkpoint path at checkpoints/PARCLIP_MOV10_Sievers/epoch=11.ckpt\n",
      "Loaded model weights from checkpoint at checkpoints/PARCLIP_MOV10_Sievers/epoch=11.ckpt\n"
     ]
    },
    {
     "name": "stdout",
     "output_type": "stream",
     "text": [
      "Testing:  88%|████████▊ | 7/8 [00:00<00:00, 10.54it/s]--------------------------------------------------------------------------------\n",
      "DATALOADER:0 TEST RESULTS\n",
      "{'test/acc': 0.7195011973381042,\n",
      " 'test/auroc': 0.7206891179084778,\n",
      " 'test/loss': 0.5452395081520081}\n",
      "--------------------------------------------------------------------------------\n",
      "Testing: 100%|██████████| 8/8 [00:01<00:00,  7.22it/s]\n"
     ]
    },
    {
     "name": "stderr",
     "output_type": "stream",
     "text": [
      "Restoring states from the checkpoint path at checkpoints/PARCLIP_MOV10_Sievers/epoch=12.ckpt\n",
      "Loaded model weights from checkpoint at checkpoints/PARCLIP_MOV10_Sievers/epoch=12.ckpt\n"
     ]
    },
    {
     "name": "stdout",
     "output_type": "stream",
     "text": [
      "Testing:  88%|████████▊ | 7/8 [00:00<00:00,  9.77it/s]--------------------------------------------------------------------------------\n",
      "DATALOADER:0 TEST RESULTS\n",
      "{'test/acc': 0.7346754670143127,\n",
      " 'test/auroc': 0.7350885272026062,\n",
      " 'test/loss': 0.543409526348114}\n",
      "--------------------------------------------------------------------------------\n",
      "Testing: 100%|██████████| 8/8 [00:01<00:00,  6.99it/s]\n"
     ]
    },
    {
     "name": "stderr",
     "output_type": "stream",
     "text": [
      "Restoring states from the checkpoint path at checkpoints/PARCLIP_MOV10_Sievers/epoch=13.ckpt\n",
      "Loaded model weights from checkpoint at checkpoints/PARCLIP_MOV10_Sievers/epoch=13.ckpt\n"
     ]
    },
    {
     "name": "stdout",
     "output_type": "stream",
     "text": [
      "Testing:  88%|████████▊ | 7/8 [00:00<00:00, 10.47it/s]--------------------------------------------------------------------------------\n",
      "DATALOADER:0 TEST RESULTS\n",
      "{'test/acc': 0.7331730723381042,\n",
      " 'test/auroc': 0.7343688607215881,\n",
      " 'test/loss': 0.5390458106994629}\n",
      "--------------------------------------------------------------------------------\n",
      "Testing: 100%|██████████| 8/8 [00:01<00:00,  7.62it/s]\n"
     ]
    },
    {
     "name": "stderr",
     "output_type": "stream",
     "text": [
      "Restoring states from the checkpoint path at checkpoints/PARCLIP_MOV10_Sievers/epoch=14.ckpt\n",
      "Loaded model weights from checkpoint at checkpoints/PARCLIP_MOV10_Sievers/epoch=14.ckpt\n"
     ]
    },
    {
     "name": "stdout",
     "output_type": "stream",
     "text": [
      "Testing: 100%|██████████| 8/8 [00:00<00:00, 11.27it/s]--------------------------------------------------------------------------------\n",
      "DATALOADER:0 TEST RESULTS\n",
      "{'test/acc': 0.7368539571762085,\n",
      " 'test/auroc': 0.7382110357284546,\n",
      " 'test/loss': 0.5329011678695679}\n",
      "--------------------------------------------------------------------------------\n",
      "Testing: 100%|██████████| 8/8 [00:00<00:00,  8.55it/s]\n"
     ]
    },
    {
     "name": "stderr",
     "output_type": "stream",
     "text": [
      "Restoring states from the checkpoint path at checkpoints/PARCLIP_MOV10_Sievers/epoch=15.ckpt\n",
      "Loaded model weights from checkpoint at checkpoints/PARCLIP_MOV10_Sievers/epoch=15.ckpt\n"
     ]
    },
    {
     "name": "stdout",
     "output_type": "stream",
     "text": [
      "Testing: 100%|██████████| 8/8 [00:01<00:00,  9.61it/s]--------------------------------------------------------------------------------\n",
      "DATALOADER:0 TEST RESULTS\n",
      "{'test/acc': 0.7231820821762085,\n",
      " 'test/auroc': 0.7251813411712646,\n",
      " 'test/loss': 0.5319498777389526}\n",
      "--------------------------------------------------------------------------------\n",
      "Testing: 100%|██████████| 8/8 [00:01<00:00,  7.79it/s]\n"
     ]
    },
    {
     "name": "stderr",
     "output_type": "stream",
     "text": [
      "Restoring states from the checkpoint path at checkpoints/PARCLIP_MOV10_Sievers/epoch=16.ckpt\n",
      "Loaded model weights from checkpoint at checkpoints/PARCLIP_MOV10_Sievers/epoch=16.ckpt\n"
     ]
    },
    {
     "name": "stdout",
     "output_type": "stream",
     "text": [
      "Testing:  88%|████████▊ | 7/8 [00:00<00:00, 10.29it/s]--------------------------------------------------------------------------------\n",
      "DATALOADER:0 TEST RESULTS\n",
      "{'test/acc': 0.7349008321762085,\n",
      " 'test/auroc': 0.7366581559181213,\n",
      " 'test/loss': 0.5384608507156372}\n",
      "--------------------------------------------------------------------------------\n",
      "Testing: 100%|██████████| 8/8 [00:01<00:00,  7.40it/s]\n"
     ]
    },
    {
     "name": "stderr",
     "output_type": "stream",
     "text": [
      "Restoring states from the checkpoint path at checkpoints/PARCLIP_MOV10_Sievers/epoch=17.ckpt\n",
      "Loaded model weights from checkpoint at checkpoints/PARCLIP_MOV10_Sievers/epoch=17.ckpt\n"
     ]
    },
    {
     "name": "stdout",
     "output_type": "stream",
     "text": [
      "Testing:  88%|████████▊ | 7/8 [00:00<00:00, 10.03it/s]--------------------------------------------------------------------------------\n",
      "DATALOADER:0 TEST RESULTS\n",
      "{'test/acc': 0.7280648946762085,\n",
      " 'test/auroc': 0.7305477857589722,\n",
      " 'test/loss': 0.5379988551139832}\n",
      "--------------------------------------------------------------------------------\n",
      "Testing: 100%|██████████| 8/8 [00:01<00:00,  7.19it/s]\n"
     ]
    },
    {
     "name": "stderr",
     "output_type": "stream",
     "text": [
      "Restoring states from the checkpoint path at checkpoints/PARCLIP_MOV10_Sievers/epoch=18.ckpt\n",
      "Loaded model weights from checkpoint at checkpoints/PARCLIP_MOV10_Sievers/epoch=18.ckpt\n"
     ]
    },
    {
     "name": "stdout",
     "output_type": "stream",
     "text": [
      "Testing: 100%|██████████| 8/8 [00:01<00:00, 10.35it/s]--------------------------------------------------------------------------------\n",
      "DATALOADER:0 TEST RESULTS\n",
      "{'test/acc': 0.7251352071762085,\n",
      " 'test/auroc': 0.7267079949378967,\n",
      " 'test/loss': 0.5397195219993591}\n",
      "--------------------------------------------------------------------------------\n",
      "Testing: 100%|██████████| 8/8 [00:01<00:00,  7.11it/s]\n"
     ]
    },
    {
     "name": "stderr",
     "output_type": "stream",
     "text": [
      "Restoring states from the checkpoint path at checkpoints/PARCLIP_MOV10_Sievers/epoch=19.ckpt\n",
      "Loaded model weights from checkpoint at checkpoints/PARCLIP_MOV10_Sievers/epoch=19.ckpt\n"
     ]
    },
    {
     "name": "stdout",
     "output_type": "stream",
     "text": [
      "Testing: 100%|██████████| 8/8 [00:00<00:00, 10.39it/s]--------------------------------------------------------------------------------\n",
      "DATALOADER:0 TEST RESULTS\n",
      "{'test/acc': 0.7314453125,\n",
      " 'test/auroc': 0.7334899306297302,\n",
      " 'test/loss': 0.5381419658660889}\n",
      "--------------------------------------------------------------------------------\n",
      "Testing: 100%|██████████| 8/8 [00:01<00:00,  7.96it/s]\n"
     ]
    },
    {
     "name": "stderr",
     "output_type": "stream",
     "text": [
      "Restoring states from the checkpoint path at checkpoints/PARCLIP_MOV10_Sievers/epoch=20.ckpt\n",
      "Loaded model weights from checkpoint at checkpoints/PARCLIP_MOV10_Sievers/epoch=20.ckpt\n"
     ]
    },
    {
     "name": "stdout",
     "output_type": "stream",
     "text": [
      "Testing: 100%|██████████| 8/8 [00:00<00:00, 10.85it/s]--------------------------------------------------------------------------------\n",
      "DATALOADER:0 TEST RESULTS\n",
      "{'test/acc': 0.7273136973381042,\n",
      " 'test/auroc': 0.7295531630516052,\n",
      " 'test/loss': 0.546108067035675}\n",
      "--------------------------------------------------------------------------------\n",
      "Testing: 100%|██████████| 8/8 [00:00<00:00,  8.09it/s]\n"
     ]
    },
    {
     "name": "stderr",
     "output_type": "stream",
     "text": [
      "Restoring states from the checkpoint path at checkpoints/PARCLIP_MOV10_Sievers/epoch=21.ckpt\n",
      "Loaded model weights from checkpoint at checkpoints/PARCLIP_MOV10_Sievers/epoch=21.ckpt\n"
     ]
    },
    {
     "name": "stdout",
     "output_type": "stream",
     "text": [
      "Testing:  88%|████████▊ | 7/8 [00:00<00:00, 10.40it/s]--------------------------------------------------------------------------------\n",
      "DATALOADER:0 TEST RESULTS\n",
      "{'test/acc': 0.7190504670143127,\n",
      " 'test/auroc': 0.7215559482574463,\n",
      " 'test/loss': 0.5409253239631653}\n",
      "--------------------------------------------------------------------------------\n",
      "Testing: 100%|██████████| 8/8 [00:01<00:00,  7.57it/s]\n"
     ]
    },
    {
     "name": "stderr",
     "output_type": "stream",
     "text": [
      "Restoring states from the checkpoint path at checkpoints/PARCLIP_MOV10_Sievers/epoch=22.ckpt\n",
      "Loaded model weights from checkpoint at checkpoints/PARCLIP_MOV10_Sievers/epoch=22.ckpt\n"
     ]
    },
    {
     "name": "stdout",
     "output_type": "stream",
     "text": [
      "Testing:  88%|████████▊ | 7/8 [00:00<00:00, 11.42it/s]--------------------------------------------------------------------------------\n",
      "DATALOADER:0 TEST RESULTS\n",
      "{'test/acc': 0.7212289571762085,\n",
      " 'test/auroc': 0.722809910774231,\n",
      " 'test/loss': 0.5424394011497498}\n",
      "--------------------------------------------------------------------------------\n",
      "Testing: 100%|██████████| 8/8 [00:00<00:00,  8.63it/s]\n"
     ]
    },
    {
     "name": "stderr",
     "output_type": "stream",
     "text": [
      "Restoring states from the checkpoint path at checkpoints/PARCLIP_MOV10_Sievers/epoch=23.ckpt\n",
      "Loaded model weights from checkpoint at checkpoints/PARCLIP_MOV10_Sievers/epoch=23.ckpt\n"
     ]
    },
    {
     "name": "stdout",
     "output_type": "stream",
     "text": [
      "Testing:  88%|████████▊ | 7/8 [00:00<00:00, 10.80it/s]--------------------------------------------------------------------------------\n",
      "DATALOADER:0 TEST RESULTS\n",
      "{'test/acc': 0.7333984375,\n",
      " 'test/auroc': 0.7358294129371643,\n",
      " 'test/loss': 0.5372716784477234}\n",
      "--------------------------------------------------------------------------------\n",
      "Testing: 100%|██████████| 8/8 [00:00<00:00,  8.04it/s]\n"
     ]
    },
    {
     "name": "stderr",
     "output_type": "stream",
     "text": [
      "Restoring states from the checkpoint path at checkpoints/PARCLIP_MOV10_Sievers/epoch=24.ckpt\n",
      "Loaded model weights from checkpoint at checkpoints/PARCLIP_MOV10_Sievers/epoch=24.ckpt\n"
     ]
    },
    {
     "name": "stdout",
     "output_type": "stream",
     "text": [
      "Testing:  88%|████████▊ | 7/8 [00:00<00:00, 10.89it/s]--------------------------------------------------------------------------------\n",
      "DATALOADER:0 TEST RESULTS\n",
      "{'test/acc': 0.7158203125,\n",
      " 'test/auroc': 0.718449056148529,\n",
      " 'test/loss': 0.5421281456947327}\n",
      "--------------------------------------------------------------------------------\n",
      "Testing: 100%|██████████| 8/8 [00:01<00:00,  7.57it/s]\n"
     ]
    },
    {
     "name": "stderr",
     "output_type": "stream",
     "text": [
      "Restoring states from the checkpoint path at checkpoints/PARCLIP_MOV10_Sievers/epoch=25.ckpt\n",
      "Loaded model weights from checkpoint at checkpoints/PARCLIP_MOV10_Sievers/epoch=25.ckpt\n"
     ]
    },
    {
     "name": "stdout",
     "output_type": "stream",
     "text": [
      "Testing:  88%|████████▊ | 7/8 [00:00<00:00, 10.58it/s]--------------------------------------------------------------------------------\n",
      "DATALOADER:0 TEST RESULTS\n",
      "{'test/acc': 0.720703125,\n",
      " 'test/auroc': 0.7235721349716187,\n",
      " 'test/loss': 0.54537433385849}\n",
      "--------------------------------------------------------------------------------\n",
      "Testing: 100%|██████████| 8/8 [00:01<00:00,  7.44it/s]\n"
     ]
    },
    {
     "name": "stderr",
     "output_type": "stream",
     "text": [
      "Restoring states from the checkpoint path at checkpoints/PARCLIP_MOV10_Sievers/epoch=26.ckpt\n",
      "Loaded model weights from checkpoint at checkpoints/PARCLIP_MOV10_Sievers/epoch=26.ckpt\n"
     ]
    },
    {
     "name": "stdout",
     "output_type": "stream",
     "text": [
      "Testing:  88%|████████▊ | 7/8 [00:00<00:00, 10.73it/s]--------------------------------------------------------------------------------\n",
      "DATALOADER:0 TEST RESULTS\n",
      "{'test/acc': 0.7087590098381042,\n",
      " 'test/auroc': 0.711237907409668,\n",
      " 'test/loss': 0.5501580238342285}\n",
      "--------------------------------------------------------------------------------\n",
      "Testing: 100%|██████████| 8/8 [00:01<00:00,  7.70it/s]\n"
     ]
    },
    {
     "name": "stderr",
     "output_type": "stream",
     "text": [
      "Restoring states from the checkpoint path at checkpoints/PARCLIP_MOV10_Sievers/epoch=27.ckpt\n",
      "Loaded model weights from checkpoint at checkpoints/PARCLIP_MOV10_Sievers/epoch=27.ckpt\n"
     ]
    },
    {
     "name": "stdout",
     "output_type": "stream",
     "text": [
      "Testing:  88%|████████▊ | 7/8 [00:00<00:00, 10.17it/s]--------------------------------------------------------------------------------\n",
      "DATALOADER:0 TEST RESULTS\n",
      "{'test/acc': 0.7185246348381042,\n",
      " 'test/auroc': 0.7220681309700012,\n",
      " 'test/loss': 0.5412994027137756}\n",
      "--------------------------------------------------------------------------------\n",
      "Testing: 100%|██████████| 8/8 [00:01<00:00,  7.29it/s]\n"
     ]
    },
    {
     "name": "stderr",
     "output_type": "stream",
     "text": [
      "Restoring states from the checkpoint path at checkpoints/PARCLIP_MOV10_Sievers/epoch=28.ckpt\n",
      "Loaded model weights from checkpoint at checkpoints/PARCLIP_MOV10_Sievers/epoch=28.ckpt\n"
     ]
    },
    {
     "name": "stdout",
     "output_type": "stream",
     "text": [
      "Testing:  88%|████████▊ | 7/8 [00:00<00:00, 11.97it/s]--------------------------------------------------------------------------------\n",
      "DATALOADER:0 TEST RESULTS\n",
      "{'test/acc': 0.7109375,\n",
      " 'test/auroc': 0.7141355872154236,\n",
      " 'test/loss': 0.549114465713501}\n",
      "--------------------------------------------------------------------------------\n",
      "Testing: 100%|██████████| 8/8 [00:00<00:00,  9.00it/s]\n"
     ]
    },
    {
     "name": "stderr",
     "output_type": "stream",
     "text": [
      "Restoring states from the checkpoint path at checkpoints/PARCLIP_MOV10_Sievers/epoch=29.ckpt\n",
      "Loaded model weights from checkpoint at checkpoints/PARCLIP_MOV10_Sievers/epoch=29.ckpt\n"
     ]
    },
    {
     "name": "stdout",
     "output_type": "stream",
     "text": [
      "Testing: 100%|██████████| 8/8 [00:00<00:00, 11.13it/s]--------------------------------------------------------------------------------\n",
      "DATALOADER:0 TEST RESULTS\n",
      "{'test/acc': 0.7224308848381042,\n",
      " 'test/auroc': 0.7250097990036011,\n",
      " 'test/loss': 0.537405252456665}\n",
      "--------------------------------------------------------------------------------\n",
      "Testing: 100%|██████████| 8/8 [00:01<00:00,  7.90it/s]\n"
     ]
    },
    {
     "name": "stderr",
     "output_type": "stream",
     "text": [
      "Restoring states from the checkpoint path at checkpoints/PARCLIP_MOV10_Sievers/last.ckpt\n",
      "Loaded model weights from checkpoint at checkpoints/PARCLIP_MOV10_Sievers/last.ckpt\n"
     ]
    },
    {
     "name": "stdout",
     "output_type": "stream",
     "text": [
      "Testing:  88%|████████▊ | 7/8 [00:00<00:00, 10.10it/s]--------------------------------------------------------------------------------\n",
      "DATALOADER:0 TEST RESULTS\n",
      "{'test/acc': 0.7224308848381042,\n",
      " 'test/auroc': 0.7250097990036011,\n",
      " 'test/loss': 0.537405252456665}\n",
      "--------------------------------------------------------------------------------\n",
      "Testing: 100%|██████████| 8/8 [00:01<00:00,  6.75it/s]\n"
     ]
    }
   ],
   "source": [
    "checkpoints = sorted(os.listdir(checkpoints_path))\n",
    "\n",
    "for checkpoint in checkpoints:\n",
    "    checkpoint_path = str(checkpoints_path) + \"/\" + checkpoint\n",
    "    trainer.test(ckpt_path=checkpoint_path, dataloaders=testloader)"
   ]
  },
  {
   "cell_type": "code",
   "execution_count": 73,
   "metadata": {},
   "outputs": [],
   "source": [
    "import shutil\n",
    "shutil.rmtree(checkpoints_path)"
   ]
  },
  {
   "cell_type": "code",
   "execution_count": 74,
   "metadata": {},
   "outputs": [],
   "source": [
    "from sklearn.linear_model import LogisticRegression\n",
    "\n",
    "def baseline_model_torch_metrics(X_train, X_test, y_train, y_test, max_iter=200):\n",
    "    baseline = LogisticRegression(max_iter=max_iter, random_state=42)\n",
    "\n",
    "    # flatten the data\n",
    "    X_train_flat = X_train.reshape(X_train.shape[0], -1)\n",
    "    X_test_flat = X_test.reshape(X_test.shape[0], -1)\n",
    "\n",
    "    baseline.fit(X_train_flat, y_train)\n",
    "\n",
    "    y_train = torch.tensor(y_train.values.astype(int))\n",
    "    y_test = torch.tensor(y_test.values.astype(int))\n",
    "\n",
    "\n",
    "    baseline_pred_train = torch.from_numpy(baseline.predict(X_train_flat)).int()\n",
    "    baseline_pred_test = torch.from_numpy(baseline.predict(X_test_flat)).int()\n",
    "\n",
    "    auroc = AUROC(num_classes=1)\n",
    "    acc = Accuracy()\n",
    "\n",
    "    train_acc_score = acc(y_train, baseline_pred_train)\n",
    "    test_acc_score = auroc(y_test, baseline_pred_test)\n",
    "\n",
    "    train_auc_score = acc(y_train, baseline_pred_train)\n",
    "    test_auc_score = auroc(y_test, baseline_pred_test)\n",
    "\n",
    "    print(f\"train_auc_score: {train_auc_score}\\ntest_auc_score: {test_auc_score}\\ntrain_acc_score: {train_acc_score}\\ntest_acc_score: {test_acc_score}\")"
   ]
  },
  {
   "cell_type": "code",
   "execution_count": 75,
   "metadata": {},
   "outputs": [
    {
     "name": "stdout",
     "output_type": "stream",
     "text": [
      "train_auc_score: 0.6849514842033386\n",
      "test_auc_score: 0.698250412940979\n",
      "train_acc_score: 0.6849514842033386\n",
      "test_acc_score: 0.698250412940979\n"
     ]
    },
    {
     "name": "stderr",
     "output_type": "stream",
     "text": [
      "/home/mrkvrbl/miniconda3/envs/diplomka/lib/python3.7/site-packages/torchmetrics/utilities/prints.py:36: UserWarning: Metric `AUROC` will save all targets and predictions in buffer. For large datasets this may lead to large memory footprint.\n",
      "  warnings.warn(*args, **kwargs)\n"
     ]
    }
   ],
   "source": [
    "from utils.utils import get_X_y\n",
    "\n",
    "X_train, y_train = get_X_y(train_df)\n",
    "X_test, y_test = get_X_y(test_df)\n",
    "\n",
    "result = baseline_model_torch_metrics(X_train, X_test, y_train, y_test, max_iter=200)"
   ]
  },
  {
   "cell_type": "code",
   "execution_count": 76,
   "metadata": {},
   "outputs": [
    {
     "name": "stderr",
     "output_type": "stream",
     "text": [
      "Experiencing connection interruptions. Will try to reestablish communication with Neptune. Internal exception was: ReadTimeout\n",
      "Error occurred during asynchronous operation processing: Cannot upload file /home/mrkvrbl/Diplomka/src/checkpoints/PARCLIP_MOV10_Sievers/epoch=00.ckpt: Path not found or is a not a file.\n",
      "Error occurred during asynchronous operation processing: Cannot upload file /home/mrkvrbl/Diplomka/src/checkpoints/PARCLIP_MOV10_Sievers/epoch=01.ckpt: Path not found or is a not a file.\n",
      "Error occurred during asynchronous operation processing: Cannot upload file /home/mrkvrbl/Diplomka/src/checkpoints/PARCLIP_MOV10_Sievers/epoch=02.ckpt: Path not found or is a not a file.\n",
      "Error occurred during asynchronous operation processing: Cannot upload file /home/mrkvrbl/Diplomka/src/checkpoints/PARCLIP_MOV10_Sievers/epoch=03.ckpt: Path not found or is a not a file.\n",
      "Error occurred during asynchronous operation processing: Cannot upload file /home/mrkvrbl/Diplomka/src/checkpoints/PARCLIP_MOV10_Sievers/epoch=04.ckpt: Path not found or is a not a file.\n",
      "Error occurred during asynchronous operation processing: Cannot upload file /home/mrkvrbl/Diplomka/src/checkpoints/PARCLIP_MOV10_Sievers/epoch=05.ckpt: Path not found or is a not a file.\n",
      "Error occurred during asynchronous operation processing: Cannot upload file /home/mrkvrbl/Diplomka/src/checkpoints/PARCLIP_MOV10_Sievers/epoch=06.ckpt: Path not found or is a not a file.\n",
      "Error occurred during asynchronous operation processing: Cannot upload file /home/mrkvrbl/Diplomka/src/checkpoints/PARCLIP_MOV10_Sievers/epoch=07.ckpt: Path not found or is a not a file.\n",
      "Error occurred during asynchronous operation processing: Cannot upload file /home/mrkvrbl/Diplomka/src/checkpoints/PARCLIP_MOV10_Sievers/epoch=08.ckpt: Path not found or is a not a file.\n",
      "Error occurred during asynchronous operation processing: Cannot upload file /home/mrkvrbl/Diplomka/src/checkpoints/PARCLIP_MOV10_Sievers/epoch=09.ckpt: Path not found or is a not a file.\n",
      "Error occurred during asynchronous operation processing: Cannot upload file /home/mrkvrbl/Diplomka/src/checkpoints/PARCLIP_MOV10_Sievers/epoch=10.ckpt: Path not found or is a not a file.\n",
      "Error occurred during asynchronous operation processing: Cannot upload file /home/mrkvrbl/Diplomka/src/checkpoints/PARCLIP_MOV10_Sievers/epoch=11.ckpt: Path not found or is a not a file.\n",
      "Error occurred during asynchronous operation processing: Cannot upload file /home/mrkvrbl/Diplomka/src/checkpoints/PARCLIP_MOV10_Sievers/epoch=12.ckpt: Path not found or is a not a file.\n",
      "Error occurred during asynchronous operation processing: Cannot upload file /home/mrkvrbl/Diplomka/src/checkpoints/PARCLIP_MOV10_Sievers/epoch=13.ckpt: Path not found or is a not a file.\n",
      "Error occurred during asynchronous operation processing: Cannot upload file /home/mrkvrbl/Diplomka/src/checkpoints/PARCLIP_MOV10_Sievers/last.ckpt: Path not found or is a not a file.\n",
      "Communication with Neptune restored!\n",
      "Error occurred during asynchronous operation processing: Cannot upload file /home/mrkvrbl/Diplomka/src/checkpoints/PARCLIP_MOV10_Sievers/epoch=00.ckpt: Path not found or is a not a file.\n",
      "Error occurred during asynchronous operation processing: Cannot upload file /home/mrkvrbl/Diplomka/src/checkpoints/PARCLIP_MOV10_Sievers/epoch=01.ckpt: Path not found or is a not a file.\n",
      "Error occurred during asynchronous operation processing: Cannot upload file /home/mrkvrbl/Diplomka/src/checkpoints/PARCLIP_MOV10_Sievers/epoch=02.ckpt: Path not found or is a not a file.\n",
      "Error occurred during asynchronous operation processing: Cannot upload file /home/mrkvrbl/Diplomka/src/checkpoints/PARCLIP_MOV10_Sievers/epoch=03.ckpt: Path not found or is a not a file.\n",
      "Error occurred during asynchronous operation processing: Cannot upload file /home/mrkvrbl/Diplomka/src/checkpoints/PARCLIP_MOV10_Sievers/epoch=04.ckpt: Path not found or is a not a file.\n",
      "Error occurred during asynchronous operation processing: Cannot upload file /home/mrkvrbl/Diplomka/src/checkpoints/PARCLIP_MOV10_Sievers/epoch=05.ckpt: Path not found or is a not a file.\n",
      "Error occurred during asynchronous operation processing: Cannot upload file /home/mrkvrbl/Diplomka/src/checkpoints/PARCLIP_MOV10_Sievers/epoch=06.ckpt: Path not found or is a not a file.\n",
      "Error occurred during asynchronous operation processing: Cannot upload file /home/mrkvrbl/Diplomka/src/checkpoints/PARCLIP_MOV10_Sievers/epoch=07.ckpt: Path not found or is a not a file.\n",
      "Error occurred during asynchronous operation processing: Cannot upload file /home/mrkvrbl/Diplomka/src/checkpoints/PARCLIP_MOV10_Sievers/epoch=08.ckpt: Path not found or is a not a file.\n",
      "Error occurred during asynchronous operation processing: Cannot upload file /home/mrkvrbl/Diplomka/src/checkpoints/PARCLIP_MOV10_Sievers/epoch=09.ckpt: Path not found or is a not a file.\n",
      "Error occurred during asynchronous operation processing: Cannot upload file /home/mrkvrbl/Diplomka/src/checkpoints/PARCLIP_MOV10_Sievers/epoch=10.ckpt: Path not found or is a not a file.\n",
      "Error occurred during asynchronous operation processing: Cannot upload file /home/mrkvrbl/Diplomka/src/checkpoints/PARCLIP_MOV10_Sievers/epoch=11.ckpt: Path not found or is a not a file.\n",
      "Error occurred during asynchronous operation processing: Cannot upload file /home/mrkvrbl/Diplomka/src/checkpoints/PARCLIP_MOV10_Sievers/epoch=12.ckpt: Path not found or is a not a file.\n",
      "Error occurred during asynchronous operation processing: Cannot upload file /home/mrkvrbl/Diplomka/src/checkpoints/PARCLIP_MOV10_Sievers/epoch=13.ckpt: Path not found or is a not a file.\n",
      "Error occurred during asynchronous operation processing: Cannot upload file /home/mrkvrbl/Diplomka/src/checkpoints/PARCLIP_MOV10_Sievers/epoch=14.ckpt: Path not found or is a not a file.\n",
      "Error occurred during asynchronous operation processing: Cannot upload file /home/mrkvrbl/Diplomka/src/checkpoints/PARCLIP_MOV10_Sievers/epoch=15.ckpt: Path not found or is a not a file.\n",
      "Error occurred during asynchronous operation processing: Cannot upload file /home/mrkvrbl/Diplomka/src/checkpoints/PARCLIP_MOV10_Sievers/epoch=16.ckpt: Path not found or is a not a file.\n",
      "Error occurred during asynchronous operation processing: Cannot upload file /home/mrkvrbl/Diplomka/src/checkpoints/PARCLIP_MOV10_Sievers/last.ckpt: Path not found or is a not a file.\n",
      "Error occurred during asynchronous operation processing: Cannot upload file /home/mrkvrbl/Diplomka/src/checkpoints/PARCLIP_MOV10_Sievers/epoch=00.ckpt: Path not found or is a not a file.\n",
      "Error occurred during asynchronous operation processing: Cannot upload file /home/mrkvrbl/Diplomka/src/checkpoints/PARCLIP_MOV10_Sievers/epoch=01.ckpt: Path not found or is a not a file.\n",
      "Error occurred during asynchronous operation processing: Cannot upload file /home/mrkvrbl/Diplomka/src/checkpoints/PARCLIP_MOV10_Sievers/epoch=02.ckpt: Path not found or is a not a file.\n",
      "Error occurred during asynchronous operation processing: Cannot upload file /home/mrkvrbl/Diplomka/src/checkpoints/PARCLIP_MOV10_Sievers/epoch=03.ckpt: Path not found or is a not a file.\n",
      "Error occurred during asynchronous operation processing: Cannot upload file /home/mrkvrbl/Diplomka/src/checkpoints/PARCLIP_MOV10_Sievers/epoch=04.ckpt: Path not found or is a not a file.\n",
      "Error occurred during asynchronous operation processing: Cannot upload file /home/mrkvrbl/Diplomka/src/checkpoints/PARCLIP_MOV10_Sievers/epoch=05.ckpt: Path not found or is a not a file.\n",
      "Error occurred during asynchronous operation processing: Cannot upload file /home/mrkvrbl/Diplomka/src/checkpoints/PARCLIP_MOV10_Sievers/epoch=06.ckpt: Path not found or is a not a file.\n",
      "Error occurred during asynchronous operation processing: Cannot upload file /home/mrkvrbl/Diplomka/src/checkpoints/PARCLIP_MOV10_Sievers/epoch=07.ckpt: Path not found or is a not a file.\n",
      "Error occurred during asynchronous operation processing: Cannot upload file /home/mrkvrbl/Diplomka/src/checkpoints/PARCLIP_MOV10_Sievers/epoch=08.ckpt: Path not found or is a not a file.\n",
      "Error occurred during asynchronous operation processing: Cannot upload file /home/mrkvrbl/Diplomka/src/checkpoints/PARCLIP_MOV10_Sievers/epoch=09.ckpt: Path not found or is a not a file.\n",
      "Error occurred during asynchronous operation processing: Cannot upload file /home/mrkvrbl/Diplomka/src/checkpoints/PARCLIP_MOV10_Sievers/epoch=10.ckpt: Path not found or is a not a file.\n",
      "Error occurred during asynchronous operation processing: Cannot upload file /home/mrkvrbl/Diplomka/src/checkpoints/PARCLIP_MOV10_Sievers/epoch=11.ckpt: Path not found or is a not a file.\n",
      "Error occurred during asynchronous operation processing: Cannot upload file /home/mrkvrbl/Diplomka/src/checkpoints/PARCLIP_MOV10_Sievers/epoch=12.ckpt: Path not found or is a not a file.\n",
      "Error occurred during asynchronous operation processing: Cannot upload file /home/mrkvrbl/Diplomka/src/checkpoints/PARCLIP_MOV10_Sievers/epoch=13.ckpt: Path not found or is a not a file.\n",
      "Error occurred during asynchronous operation processing: Cannot upload file /home/mrkvrbl/Diplomka/src/checkpoints/PARCLIP_MOV10_Sievers/epoch=14.ckpt: Path not found or is a not a file.\n",
      "Error occurred during asynchronous operation processing: Cannot upload file /home/mrkvrbl/Diplomka/src/checkpoints/PARCLIP_MOV10_Sievers/epoch=15.ckpt: Path not found or is a not a file.\n",
      "Error occurred during asynchronous operation processing: Cannot upload file /home/mrkvrbl/Diplomka/src/checkpoints/PARCLIP_MOV10_Sievers/epoch=16.ckpt: Path not found or is a not a file.\n",
      "Error occurred during asynchronous operation processing: Cannot upload file /home/mrkvrbl/Diplomka/src/checkpoints/PARCLIP_MOV10_Sievers/epoch=17.ckpt: Path not found or is a not a file.\n",
      "Error occurred during asynchronous operation processing: Cannot upload file /home/mrkvrbl/Diplomka/src/checkpoints/PARCLIP_MOV10_Sievers/epoch=18.ckpt: Path not found or is a not a file.\n",
      "Error occurred during asynchronous operation processing: Cannot upload file /home/mrkvrbl/Diplomka/src/checkpoints/PARCLIP_MOV10_Sievers/epoch=19.ckpt: Path not found or is a not a file.\n",
      "Error occurred during asynchronous operation processing: Cannot upload file /home/mrkvrbl/Diplomka/src/checkpoints/PARCLIP_MOV10_Sievers/last.ckpt: Path not found or is a not a file.\n",
      "Error occurred during asynchronous operation processing: Cannot upload file /home/mrkvrbl/Diplomka/src/checkpoints/PARCLIP_MOV10_Sievers/epoch=00.ckpt: Path not found or is a not a file.\n",
      "Error occurred during asynchronous operation processing: Cannot upload file /home/mrkvrbl/Diplomka/src/checkpoints/PARCLIP_MOV10_Sievers/epoch=01.ckpt: Path not found or is a not a file.\n",
      "Error occurred during asynchronous operation processing: Cannot upload file /home/mrkvrbl/Diplomka/src/checkpoints/PARCLIP_MOV10_Sievers/epoch=02.ckpt: Path not found or is a not a file.\n",
      "Error occurred during asynchronous operation processing: Cannot upload file /home/mrkvrbl/Diplomka/src/checkpoints/PARCLIP_MOV10_Sievers/epoch=03.ckpt: Path not found or is a not a file.\n",
      "Error occurred during asynchronous operation processing: Cannot upload file /home/mrkvrbl/Diplomka/src/checkpoints/PARCLIP_MOV10_Sievers/epoch=04.ckpt: Path not found or is a not a file.\n",
      "Error occurred during asynchronous operation processing: Cannot upload file /home/mrkvrbl/Diplomka/src/checkpoints/PARCLIP_MOV10_Sievers/epoch=05.ckpt: Path not found or is a not a file.\n",
      "Error occurred during asynchronous operation processing: Cannot upload file /home/mrkvrbl/Diplomka/src/checkpoints/PARCLIP_MOV10_Sievers/epoch=06.ckpt: Path not found or is a not a file.\n",
      "Error occurred during asynchronous operation processing: Cannot upload file /home/mrkvrbl/Diplomka/src/checkpoints/PARCLIP_MOV10_Sievers/epoch=07.ckpt: Path not found or is a not a file.\n",
      "Error occurred during asynchronous operation processing: Cannot upload file /home/mrkvrbl/Diplomka/src/checkpoints/PARCLIP_MOV10_Sievers/epoch=08.ckpt: Path not found or is a not a file.\n",
      "Error occurred during asynchronous operation processing: Cannot upload file /home/mrkvrbl/Diplomka/src/checkpoints/PARCLIP_MOV10_Sievers/epoch=09.ckpt: Path not found or is a not a file.\n",
      "Error occurred during asynchronous operation processing: Cannot upload file /home/mrkvrbl/Diplomka/src/checkpoints/PARCLIP_MOV10_Sievers/epoch=10.ckpt: Path not found or is a not a file.\n",
      "Error occurred during asynchronous operation processing: Cannot upload file /home/mrkvrbl/Diplomka/src/checkpoints/PARCLIP_MOV10_Sievers/epoch=11.ckpt: Path not found or is a not a file.\n",
      "Error occurred during asynchronous operation processing: Cannot upload file /home/mrkvrbl/Diplomka/src/checkpoints/PARCLIP_MOV10_Sievers/epoch=12.ckpt: Path not found or is a not a file.\n",
      "Error occurred during asynchronous operation processing: Cannot upload file /home/mrkvrbl/Diplomka/src/checkpoints/PARCLIP_MOV10_Sievers/epoch=13.ckpt: Path not found or is a not a file.\n",
      "Error occurred during asynchronous operation processing: Cannot upload file /home/mrkvrbl/Diplomka/src/checkpoints/PARCLIP_MOV10_Sievers/epoch=14.ckpt: Path not found or is a not a file.\n",
      "Error occurred during asynchronous operation processing: Cannot upload file /home/mrkvrbl/Diplomka/src/checkpoints/PARCLIP_MOV10_Sievers/epoch=15.ckpt: Path not found or is a not a file.\n",
      "Error occurred during asynchronous operation processing: Cannot upload file /home/mrkvrbl/Diplomka/src/checkpoints/PARCLIP_MOV10_Sievers/epoch=16.ckpt: Path not found or is a not a file.\n",
      "Error occurred during asynchronous operation processing: Cannot upload file /home/mrkvrbl/Diplomka/src/checkpoints/PARCLIP_MOV10_Sievers/epoch=17.ckpt: Path not found or is a not a file.\n",
      "Error occurred during asynchronous operation processing: Cannot upload file /home/mrkvrbl/Diplomka/src/checkpoints/PARCLIP_MOV10_Sievers/epoch=18.ckpt: Path not found or is a not a file.\n",
      "Error occurred during asynchronous operation processing: Cannot upload file /home/mrkvrbl/Diplomka/src/checkpoints/PARCLIP_MOV10_Sievers/epoch=19.ckpt: Path not found or is a not a file.\n",
      "Error occurred during asynchronous operation processing: Cannot upload file /home/mrkvrbl/Diplomka/src/checkpoints/PARCLIP_MOV10_Sievers/epoch=20.ckpt: Path not found or is a not a file.\n",
      "Error occurred during asynchronous operation processing: Cannot upload file /home/mrkvrbl/Diplomka/src/checkpoints/PARCLIP_MOV10_Sievers/epoch=21.ckpt: Path not found or is a not a file.\n",
      "Error occurred during asynchronous operation processing: Cannot upload file /home/mrkvrbl/Diplomka/src/checkpoints/PARCLIP_MOV10_Sievers/epoch=22.ckpt: Path not found or is a not a file.\n",
      "Error occurred during asynchronous operation processing: Cannot upload file /home/mrkvrbl/Diplomka/src/checkpoints/PARCLIP_MOV10_Sievers/last.ckpt: Path not found or is a not a file.\n",
      "Error occurred during asynchronous operation processing: Cannot upload file /home/mrkvrbl/Diplomka/src/checkpoints/PARCLIP_MOV10_Sievers/epoch=00.ckpt: Path not found or is a not a file.\n",
      "Error occurred during asynchronous operation processing: Cannot upload file /home/mrkvrbl/Diplomka/src/checkpoints/PARCLIP_MOV10_Sievers/epoch=01.ckpt: Path not found or is a not a file.\n",
      "Error occurred during asynchronous operation processing: Cannot upload file /home/mrkvrbl/Diplomka/src/checkpoints/PARCLIP_MOV10_Sievers/epoch=02.ckpt: Path not found or is a not a file.\n",
      "Error occurred during asynchronous operation processing: Cannot upload file /home/mrkvrbl/Diplomka/src/checkpoints/PARCLIP_MOV10_Sievers/epoch=03.ckpt: Path not found or is a not a file.\n",
      "Error occurred during asynchronous operation processing: Cannot upload file /home/mrkvrbl/Diplomka/src/checkpoints/PARCLIP_MOV10_Sievers/epoch=04.ckpt: Path not found or is a not a file.\n",
      "Error occurred during asynchronous operation processing: Cannot upload file /home/mrkvrbl/Diplomka/src/checkpoints/PARCLIP_MOV10_Sievers/epoch=05.ckpt: Path not found or is a not a file.\n",
      "Error occurred during asynchronous operation processing: Cannot upload file /home/mrkvrbl/Diplomka/src/checkpoints/PARCLIP_MOV10_Sievers/epoch=06.ckpt: Path not found or is a not a file.\n",
      "Error occurred during asynchronous operation processing: Cannot upload file /home/mrkvrbl/Diplomka/src/checkpoints/PARCLIP_MOV10_Sievers/epoch=07.ckpt: Path not found or is a not a file.\n",
      "Error occurred during asynchronous operation processing: Cannot upload file /home/mrkvrbl/Diplomka/src/checkpoints/PARCLIP_MOV10_Sievers/epoch=08.ckpt: Path not found or is a not a file.\n",
      "Error occurred during asynchronous operation processing: Cannot upload file /home/mrkvrbl/Diplomka/src/checkpoints/PARCLIP_MOV10_Sievers/epoch=09.ckpt: Path not found or is a not a file.\n",
      "Error occurred during asynchronous operation processing: Cannot upload file /home/mrkvrbl/Diplomka/src/checkpoints/PARCLIP_MOV10_Sievers/epoch=10.ckpt: Path not found or is a not a file.\n",
      "Error occurred during asynchronous operation processing: Cannot upload file /home/mrkvrbl/Diplomka/src/checkpoints/PARCLIP_MOV10_Sievers/epoch=11.ckpt: Path not found or is a not a file.\n",
      "Error occurred during asynchronous operation processing: Cannot upload file /home/mrkvrbl/Diplomka/src/checkpoints/PARCLIP_MOV10_Sievers/epoch=12.ckpt: Path not found or is a not a file.\n",
      "Error occurred during asynchronous operation processing: Cannot upload file /home/mrkvrbl/Diplomka/src/checkpoints/PARCLIP_MOV10_Sievers/epoch=13.ckpt: Path not found or is a not a file.\n",
      "Error occurred during asynchronous operation processing: Cannot upload file /home/mrkvrbl/Diplomka/src/checkpoints/PARCLIP_MOV10_Sievers/epoch=14.ckpt: Path not found or is a not a file.\n",
      "Error occurred during asynchronous operation processing: Cannot upload file /home/mrkvrbl/Diplomka/src/checkpoints/PARCLIP_MOV10_Sievers/epoch=15.ckpt: Path not found or is a not a file.\n",
      "Error occurred during asynchronous operation processing: Cannot upload file /home/mrkvrbl/Diplomka/src/checkpoints/PARCLIP_MOV10_Sievers/epoch=16.ckpt: Path not found or is a not a file.\n",
      "Error occurred during asynchronous operation processing: Cannot upload file /home/mrkvrbl/Diplomka/src/checkpoints/PARCLIP_MOV10_Sievers/epoch=17.ckpt: Path not found or is a not a file.\n",
      "Error occurred during asynchronous operation processing: Cannot upload file /home/mrkvrbl/Diplomka/src/checkpoints/PARCLIP_MOV10_Sievers/epoch=18.ckpt: Path not found or is a not a file.\n",
      "Error occurred during asynchronous operation processing: Cannot upload file /home/mrkvrbl/Diplomka/src/checkpoints/PARCLIP_MOV10_Sievers/epoch=19.ckpt: Path not found or is a not a file.\n",
      "Error occurred during asynchronous operation processing: Cannot upload file /home/mrkvrbl/Diplomka/src/checkpoints/PARCLIP_MOV10_Sievers/epoch=20.ckpt: Path not found or is a not a file.\n",
      "Error occurred during asynchronous operation processing: Cannot upload file /home/mrkvrbl/Diplomka/src/checkpoints/PARCLIP_MOV10_Sievers/epoch=21.ckpt: Path not found or is a not a file.\n",
      "Error occurred during asynchronous operation processing: Cannot upload file /home/mrkvrbl/Diplomka/src/checkpoints/PARCLIP_MOV10_Sievers/epoch=22.ckpt: Path not found or is a not a file.\n",
      "Error occurred during asynchronous operation processing: Cannot upload file /home/mrkvrbl/Diplomka/src/checkpoints/PARCLIP_MOV10_Sievers/epoch=23.ckpt: Path not found or is a not a file.\n",
      "Error occurred during asynchronous operation processing: Cannot upload file /home/mrkvrbl/Diplomka/src/checkpoints/PARCLIP_MOV10_Sievers/epoch=24.ckpt: Path not found or is a not a file.\n",
      "Error occurred during asynchronous operation processing: Cannot upload file /home/mrkvrbl/Diplomka/src/checkpoints/PARCLIP_MOV10_Sievers/epoch=25.ckpt: Path not found or is a not a file.\n",
      "Error occurred during asynchronous operation processing: Cannot upload file /home/mrkvrbl/Diplomka/src/checkpoints/PARCLIP_MOV10_Sievers/last.ckpt: Path not found or is a not a file.\n",
      "Error occurred during asynchronous operation processing: Cannot upload file /home/mrkvrbl/Diplomka/src/checkpoints/PARCLIP_MOV10_Sievers/epoch=00.ckpt: Path not found or is a not a file.\n",
      "Error occurred during asynchronous operation processing: Cannot upload file /home/mrkvrbl/Diplomka/src/checkpoints/PARCLIP_MOV10_Sievers/epoch=01.ckpt: Path not found or is a not a file.\n",
      "Error occurred during asynchronous operation processing: Cannot upload file /home/mrkvrbl/Diplomka/src/checkpoints/PARCLIP_MOV10_Sievers/epoch=02.ckpt: Path not found or is a not a file.\n",
      "Error occurred during asynchronous operation processing: Cannot upload file /home/mrkvrbl/Diplomka/src/checkpoints/PARCLIP_MOV10_Sievers/epoch=03.ckpt: Path not found or is a not a file.\n",
      "Error occurred during asynchronous operation processing: Cannot upload file /home/mrkvrbl/Diplomka/src/checkpoints/PARCLIP_MOV10_Sievers/epoch=04.ckpt: Path not found or is a not a file.\n",
      "Error occurred during asynchronous operation processing: Cannot upload file /home/mrkvrbl/Diplomka/src/checkpoints/PARCLIP_MOV10_Sievers/epoch=05.ckpt: Path not found or is a not a file.\n",
      "Error occurred during asynchronous operation processing: Cannot upload file /home/mrkvrbl/Diplomka/src/checkpoints/PARCLIP_MOV10_Sievers/epoch=06.ckpt: Path not found or is a not a file.\n",
      "Error occurred during asynchronous operation processing: Cannot upload file /home/mrkvrbl/Diplomka/src/checkpoints/PARCLIP_MOV10_Sievers/epoch=07.ckpt: Path not found or is a not a file.\n",
      "Error occurred during asynchronous operation processing: Cannot upload file /home/mrkvrbl/Diplomka/src/checkpoints/PARCLIP_MOV10_Sievers/epoch=08.ckpt: Path not found or is a not a file.\n",
      "Error occurred during asynchronous operation processing: Cannot upload file /home/mrkvrbl/Diplomka/src/checkpoints/PARCLIP_MOV10_Sievers/epoch=09.ckpt: Path not found or is a not a file.\n",
      "Error occurred during asynchronous operation processing: Cannot upload file /home/mrkvrbl/Diplomka/src/checkpoints/PARCLIP_MOV10_Sievers/epoch=10.ckpt: Path not found or is a not a file.\n",
      "Error occurred during asynchronous operation processing: Cannot upload file /home/mrkvrbl/Diplomka/src/checkpoints/PARCLIP_MOV10_Sievers/epoch=11.ckpt: Path not found or is a not a file.\n",
      "Error occurred during asynchronous operation processing: Cannot upload file /home/mrkvrbl/Diplomka/src/checkpoints/PARCLIP_MOV10_Sievers/epoch=12.ckpt: Path not found or is a not a file.\n",
      "Error occurred during asynchronous operation processing: Cannot upload file /home/mrkvrbl/Diplomka/src/checkpoints/PARCLIP_MOV10_Sievers/epoch=13.ckpt: Path not found or is a not a file.\n",
      "Error occurred during asynchronous operation processing: Cannot upload file /home/mrkvrbl/Diplomka/src/checkpoints/PARCLIP_MOV10_Sievers/epoch=14.ckpt: Path not found or is a not a file.\n",
      "Error occurred during asynchronous operation processing: Cannot upload file /home/mrkvrbl/Diplomka/src/checkpoints/PARCLIP_MOV10_Sievers/epoch=15.ckpt: Path not found or is a not a file.\n",
      "Error occurred during asynchronous operation processing: Cannot upload file /home/mrkvrbl/Diplomka/src/checkpoints/PARCLIP_MOV10_Sievers/epoch=16.ckpt: Path not found or is a not a file.\n",
      "Error occurred during asynchronous operation processing: Cannot upload file /home/mrkvrbl/Diplomka/src/checkpoints/PARCLIP_MOV10_Sievers/epoch=17.ckpt: Path not found or is a not a file.\n",
      "Error occurred during asynchronous operation processing: Cannot upload file /home/mrkvrbl/Diplomka/src/checkpoints/PARCLIP_MOV10_Sievers/epoch=18.ckpt: Path not found or is a not a file.\n",
      "Error occurred during asynchronous operation processing: Cannot upload file /home/mrkvrbl/Diplomka/src/checkpoints/PARCLIP_MOV10_Sievers/epoch=19.ckpt: Path not found or is a not a file.\n",
      "Error occurred during asynchronous operation processing: Cannot upload file /home/mrkvrbl/Diplomka/src/checkpoints/PARCLIP_MOV10_Sievers/epoch=20.ckpt: Path not found or is a not a file.\n",
      "Error occurred during asynchronous operation processing: Cannot upload file /home/mrkvrbl/Diplomka/src/checkpoints/PARCLIP_MOV10_Sievers/epoch=21.ckpt: Path not found or is a not a file.\n",
      "Error occurred during asynchronous operation processing: Cannot upload file /home/mrkvrbl/Diplomka/src/checkpoints/PARCLIP_MOV10_Sievers/epoch=22.ckpt: Path not found or is a not a file.\n",
      "Error occurred during asynchronous operation processing: Cannot upload file /home/mrkvrbl/Diplomka/src/checkpoints/PARCLIP_MOV10_Sievers/epoch=23.ckpt: Path not found or is a not a file.\n",
      "Error occurred during asynchronous operation processing: Cannot upload file /home/mrkvrbl/Diplomka/src/checkpoints/PARCLIP_MOV10_Sievers/epoch=24.ckpt: Path not found or is a not a file.\n",
      "Error occurred during asynchronous operation processing: Cannot upload file /home/mrkvrbl/Diplomka/src/checkpoints/PARCLIP_MOV10_Sievers/epoch=25.ckpt: Path not found or is a not a file.\n",
      "Error occurred during asynchronous operation processing: Cannot upload file /home/mrkvrbl/Diplomka/src/checkpoints/PARCLIP_MOV10_Sievers/epoch=26.ckpt: Path not found or is a not a file.\n",
      "Error occurred during asynchronous operation processing: Cannot upload file /home/mrkvrbl/Diplomka/src/checkpoints/PARCLIP_MOV10_Sievers/epoch=27.ckpt: Path not found or is a not a file.\n",
      "Error occurred during asynchronous operation processing: Cannot upload file /home/mrkvrbl/Diplomka/src/checkpoints/PARCLIP_MOV10_Sievers/epoch=28.ckpt: Path not found or is a not a file.\n",
      "Error occurred during asynchronous operation processing: Cannot upload file /home/mrkvrbl/Diplomka/src/checkpoints/PARCLIP_MOV10_Sievers/epoch=29.ckpt: Path not found or is a not a file.\n",
      "Error occurred during asynchronous operation processing: Cannot upload file /home/mrkvrbl/Diplomka/src/checkpoints/PARCLIP_MOV10_Sievers/last.ckpt: Path not found or is a not a file.\n",
      "Experiencing connection interruptions. Will try to reestablish communication with Neptune. Internal exception was: RequestsFutureAdapterTimeout\n",
      "Communication with Neptune restored!\n",
      "Experiencing connection interruptions. Will try to reestablish communication with Neptune. Internal exception was: RequestsFutureAdapterTimeout\n",
      "Communication with Neptune restored!\n",
      "Experiencing connection interruptions. Will try to reestablish communication with Neptune. Internal exception was: RequestsFutureAdapterTimeout\n",
      "Communication with Neptune restored!\n",
      "Experiencing connection interruptions. Will try to reestablish communication with Neptune. Internal exception was: RequestsFutureAdapterTimeout\n",
      "Communication with Neptune restored!\n",
      "Experiencing connection interruptions. Will try to reestablish communication with Neptune. Internal exception was: RequestsFutureAdapterTimeout\n",
      "Experiencing connection interruptions. Will try to reestablish communication with Neptune. Internal exception was: RequestsFutureAdapterTimeout\n",
      "Experiencing connection interruptions. Will try to reestablish communication with Neptune. Internal exception was: RequestsFutureAdapterTimeout\n",
      "Experiencing connection interruptions. Will try to reestablish communication with Neptune. Internal exception was: RequestsFutureAdapterTimeout\n",
      "Communication with Neptune restored!\n",
      "Communication with Neptune restored!\n",
      "Communication with Neptune restored!\n",
      "Communication with Neptune restored!\n",
      "Experiencing connection interruptions. Will try to reestablish communication with Neptune. Internal exception was: RequestsFutureAdapterTimeout\n",
      "Communication with Neptune restored!\n",
      "Experiencing connection interruptions. Will try to reestablish communication with Neptune. Internal exception was: RequestsFutureAdapterTimeout\n",
      "Experiencing connection interruptions. Will try to reestablish communication with Neptune. Internal exception was: RequestsFutureAdapterTimeout\n",
      "Experiencing connection interruptions. Will try to reestablish communication with Neptune. Internal exception was: RequestsFutureAdapterTimeout\n",
      "Communication with Neptune restored!\n",
      "Communication with Neptune restored!\n",
      "Communication with Neptune restored!\n",
      "Experiencing connection interruptions. Will try to reestablish communication with Neptune. Internal exception was: RequestsFutureAdapterTimeout\n",
      "Communication with Neptune restored!\n",
      "Experiencing connection interruptions. Will try to reestablish communication with Neptune. Internal exception was: RequestsFutureAdapterTimeout\n",
      "Experiencing connection interruptions. Will try to reestablish communication with Neptune. Internal exception was: RequestsFutureAdapterTimeout\n",
      "Experiencing connection interruptions. Will try to reestablish communication with Neptune. Internal exception was: RequestsFutureAdapterTimeout\n",
      "Communication with Neptune restored!\n",
      "Communication with Neptune restored!\n",
      "Communication with Neptune restored!\n",
      "Experiencing connection interruptions. Will try to reestablish communication with Neptune. Internal exception was: RequestsFutureAdapterConnectionError\n",
      "Experiencing connection interruptions. Will try to reestablish communication with Neptune. Internal exception was: RequestsFutureAdapterConnectionError\n",
      "Experiencing connection interruptions. Will try to reestablish communication with Neptune. Internal exception was: RequestsFutureAdapterConnectionError\n",
      "Communication with Neptune restored!\n",
      "Communication with Neptune restored!\n",
      "Communication with Neptune restored!\n",
      "Experiencing connection interruptions. Will try to reestablish communication with Neptune. Internal exception was: RequestsFutureAdapterConnectionError\n",
      "Communication with Neptune restored!\n",
      "Experiencing connection interruptions. Will try to reestablish communication with Neptune. Internal exception was: RequestsFutureAdapterConnectionError\n",
      "Communication with Neptune restored!\n",
      "Experiencing connection interruptions. Will try to reestablish communication with Neptune. Internal exception was: RequestsFutureAdapterConnectionError\n",
      "Communication with Neptune restored!\n",
      "Experiencing connection interruptions. Will try to reestablish communication with Neptune. Internal exception was: RequestsFutureAdapterConnectionError\n",
      "Experiencing connection interruptions. Will try to reestablish communication with Neptune. Internal exception was: RequestsFutureAdapterConnectionError\n",
      "Experiencing connection interruptions. Will try to reestablish communication with Neptune. Internal exception was: RequestsFutureAdapterConnectionError\n",
      "Communication with Neptune restored!\n",
      "Communication with Neptune restored!\n",
      "Communication with Neptune restored!\n",
      "Experiencing connection interruptions. Will try to reestablish communication with Neptune. Internal exception was: RequestsFutureAdapterTimeout\n",
      "Communication with Neptune restored!\n",
      "Experiencing connection interruptions. Will try to reestablish communication with Neptune. Internal exception was: RequestsFutureAdapterTimeout\n",
      "Experiencing connection interruptions. Will try to reestablish communication with Neptune. Internal exception was: RequestsFutureAdapterTimeout\n",
      "Experiencing connection interruptions. Will try to reestablish communication with Neptune. Internal exception was: RequestsFutureAdapterTimeout\n",
      "Experiencing connection interruptions. Will try to reestablish communication with Neptune. Internal exception was: RequestsFutureAdapterTimeout\n",
      "Communication with Neptune restored!\n",
      "Communication with Neptune restored!\n",
      "Communication with Neptune restored!\n",
      "Communication with Neptune restored!\n",
      "Experiencing connection interruptions. Will try to reestablish communication with Neptune. Internal exception was: RequestsFutureAdapterTimeout\n",
      "Communication with Neptune restored!\n",
      "Experiencing connection interruptions. Will try to reestablish communication with Neptune. Internal exception was: RequestsFutureAdapterTimeout\n",
      "Communication with Neptune restored!\n",
      "Experiencing connection interruptions. Will try to reestablish communication with Neptune. Internal exception was: RequestsFutureAdapterTimeout\n",
      "Experiencing connection interruptions. Will try to reestablish communication with Neptune. Internal exception was: RequestsFutureAdapterTimeout\n",
      "Experiencing connection interruptions. Will try to reestablish communication with Neptune. Internal exception was: RequestsFutureAdapterTimeout\n",
      "Communication with Neptune restored!\n",
      "Communication with Neptune restored!\n",
      "Communication with Neptune restored!\n",
      "Experiencing connection interruptions. Will try to reestablish communication with Neptune. Internal exception was: RequestsFutureAdapterTimeout\n",
      "Experiencing connection interruptions. Will try to reestablish communication with Neptune. Internal exception was: RequestsFutureAdapterTimeout\n",
      "Experiencing connection interruptions. Will try to reestablish communication with Neptune. Internal exception was: RequestsFutureAdapterTimeout\n",
      "Communication with Neptune restored!\n",
      "Communication with Neptune restored!\n",
      "Communication with Neptune restored!\n",
      "Experiencing connection interruptions. Will try to reestablish communication with Neptune. Internal exception was: RequestsFutureAdapterTimeout\n",
      "Communication with Neptune restored!\n",
      "Experiencing connection interruptions. Will try to reestablish communication with Neptune. Internal exception was: RequestsFutureAdapterTimeout\n",
      "Experiencing connection interruptions. Will try to reestablish communication with Neptune. Internal exception was: RequestsFutureAdapterTimeout\n",
      "Experiencing connection interruptions. Will try to reestablish communication with Neptune. Internal exception was: RequestsFutureAdapterTimeout\n",
      "Experiencing connection interruptions. Will try to reestablish communication with Neptune. Internal exception was: RequestsFutureAdapterTimeout\n",
      "Communication with Neptune restored!\n",
      "Communication with Neptune restored!\n",
      "Communication with Neptune restored!\n",
      "Communication with Neptune restored!\n",
      "Experiencing connection interruptions. Will try to reestablish communication with Neptune. Internal exception was: RequestsFutureAdapterTimeout\n",
      "Experiencing connection interruptions. Will try to reestablish communication with Neptune. Internal exception was: RequestsFutureAdapterTimeout\n",
      "Experiencing connection interruptions. Will try to reestablish communication with Neptune. Internal exception was: RequestsFutureAdapterTimeout\n",
      "Experiencing connection interruptions. Will try to reestablish communication with Neptune. Internal exception was: RequestsFutureAdapterTimeout\n",
      "Communication with Neptune restored!\n",
      "Communication with Neptune restored!\n",
      "Communication with Neptune restored!\n",
      "Communication with Neptune restored!\n",
      "Experiencing connection interruptions. Will try to reestablish communication with Neptune. Internal exception was: RequestsFutureAdapterTimeout\n",
      "Experiencing connection interruptions. Will try to reestablish communication with Neptune. Internal exception was: RequestsFutureAdapterTimeout\n",
      "Experiencing connection interruptions. Will try to reestablish communication with Neptune. Internal exception was: RequestsFutureAdapterTimeout\n",
      "Experiencing connection interruptions. Will try to reestablish communication with Neptune. Internal exception was: RequestsFutureAdapterTimeout\n",
      "Communication with Neptune restored!\n",
      "Communication with Neptune restored!\n",
      "Communication with Neptune restored!\n",
      "Communication with Neptune restored!\n",
      "Experiencing connection interruptions. Will try to reestablish communication with Neptune. Internal exception was: RequestsFutureAdapterTimeout\n",
      "Experiencing connection interruptions. Will try to reestablish communication with Neptune. Internal exception was: RequestsFutureAdapterTimeout\n",
      "Communication with Neptune restored!\n",
      "Communication with Neptune restored!\n",
      "Experiencing connection interruptions. Will try to reestablish communication with Neptune. Internal exception was: RequestsFutureAdapterTimeout\n",
      "Communication with Neptune restored!\n",
      "Experiencing connection interruptions. Will try to reestablish communication with Neptune. Internal exception was: RequestsFutureAdapterTimeout\n",
      "Experiencing connection interruptions. Will try to reestablish communication with Neptune. Internal exception was: RequestsFutureAdapterTimeout\n",
      "Experiencing connection interruptions. Will try to reestablish communication with Neptune. Internal exception was: RequestsFutureAdapterTimeout\n",
      "Experiencing connection interruptions. Will try to reestablish communication with Neptune. Internal exception was: RequestsFutureAdapterTimeout\n",
      "Communication with Neptune restored!\n",
      "Communication with Neptune restored!\n",
      "Communication with Neptune restored!\n",
      "Communication with Neptune restored!\n",
      "Experiencing connection interruptions. Will try to reestablish communication with Neptune. Internal exception was: RequestsFutureAdapterTimeout\n",
      "Communication with Neptune restored!\n",
      "Experiencing connection interruptions. Will try to reestablish communication with Neptune. Internal exception was: RequestsFutureAdapterTimeout\n",
      "Experiencing connection interruptions. Will try to reestablish communication with Neptune. Internal exception was: RequestsFutureAdapterTimeout\n",
      "Communication with Neptune restored!\n",
      "Communication with Neptune restored!\n",
      "Experiencing connection interruptions. Will try to reestablish communication with Neptune. Internal exception was: RequestsFutureAdapterTimeout\n",
      "Experiencing connection interruptions. Will try to reestablish communication with Neptune. Internal exception was: RequestsFutureAdapterTimeout\n",
      "Communication with Neptune restored!\n",
      "Communication with Neptune restored!\n",
      "Experiencing connection interruptions. Will try to reestablish communication with Neptune. Internal exception was: RequestsFutureAdapterTimeout\n",
      "Experiencing connection interruptions. Will try to reestablish communication with Neptune. Internal exception was: RequestsFutureAdapterTimeout\n",
      "Experiencing connection interruptions. Will try to reestablish communication with Neptune. Internal exception was: RequestsFutureAdapterTimeout\n",
      "Experiencing connection interruptions. Will try to reestablish communication with Neptune. Internal exception was: RequestsFutureAdapterTimeout\n",
      "Communication with Neptune restored!\n",
      "Communication with Neptune restored!\n",
      "Communication with Neptune restored!\n",
      "Communication with Neptune restored!\n",
      "Experiencing connection interruptions. Will try to reestablish communication with Neptune. Internal exception was: RequestsFutureAdapterTimeout\n",
      "Experiencing connection interruptions. Will try to reestablish communication with Neptune. Internal exception was: RequestsFutureAdapterTimeout\n",
      "Experiencing connection interruptions. Will try to reestablish communication with Neptune. Internal exception was: RequestsFutureAdapterTimeout\n",
      "Experiencing connection interruptions. Will try to reestablish communication with Neptune. Internal exception was: RequestsFutureAdapterTimeout\n",
      "Communication with Neptune restored!\n",
      "Communication with Neptune restored!\n",
      "Communication with Neptune restored!\n",
      "Communication with Neptune restored!\n",
      "Experiencing connection interruptions. Will try to reestablish communication with Neptune. Internal exception was: RequestsFutureAdapterTimeout\n",
      "Experiencing connection interruptions. Will try to reestablish communication with Neptune. Internal exception was: RequestsFutureAdapterTimeout\n",
      "Communication with Neptune restored!\n",
      "Communication with Neptune restored!\n",
      "Experiencing connection interruptions. Will try to reestablish communication with Neptune. Internal exception was: RequestsFutureAdapterTimeout\n",
      "Communication with Neptune restored!\n",
      "Experiencing connection interruptions. Will try to reestablish communication with Neptune. Internal exception was: RequestsFutureAdapterTimeout\n",
      "Experiencing connection interruptions. Will try to reestablish communication with Neptune. Internal exception was: RequestsFutureAdapterTimeout\n",
      "Experiencing connection interruptions. Will try to reestablish communication with Neptune. Internal exception was: RequestsFutureAdapterTimeout\n",
      "Experiencing connection interruptions. Will try to reestablish communication with Neptune. Internal exception was: RequestsFutureAdapterTimeout\n",
      "Communication with Neptune restored!\n",
      "Communication with Neptune restored!\n",
      "Communication with Neptune restored!\n",
      "Communication with Neptune restored!\n",
      "Experiencing connection interruptions. Will try to reestablish communication with Neptune. Internal exception was: RequestsFutureAdapterTimeout\n",
      "Experiencing connection interruptions. Will try to reestablish communication with Neptune. Internal exception was: RequestsFutureAdapterTimeout\n",
      "Communication with Neptune restored!\n",
      "Communication with Neptune restored!\n",
      "Experiencing connection interruptions. Will try to reestablish communication with Neptune. Internal exception was: RequestsFutureAdapterTimeout\n",
      "Experiencing connection interruptions. Will try to reestablish communication with Neptune. Internal exception was: RequestsFutureAdapterTimeout\n",
      "Communication with Neptune restored!\n",
      "Communication with Neptune restored!\n",
      "Experiencing connection interruptions. Will try to reestablish communication with Neptune. Internal exception was: RequestsFutureAdapterTimeout\n",
      "Experiencing connection interruptions. Will try to reestablish communication with Neptune. Internal exception was: RequestsFutureAdapterTimeout\n",
      "Experiencing connection interruptions. Will try to reestablish communication with Neptune. Internal exception was: RequestsFutureAdapterTimeout\n",
      "Experiencing connection interruptions. Will try to reestablish communication with Neptune. Internal exception was: RequestsFutureAdapterTimeout\n",
      "Communication with Neptune restored!\n",
      "Communication with Neptune restored!\n",
      "Communication with Neptune restored!\n",
      "Communication with Neptune restored!\n",
      "Experiencing connection interruptions. Will try to reestablish communication with Neptune. Internal exception was: RequestsFutureAdapterTimeout\n",
      "Experiencing connection interruptions. Will try to reestablish communication with Neptune. Internal exception was: RequestsFutureAdapterTimeout\n",
      "Communication with Neptune restored!\n",
      "Communication with Neptune restored!\n",
      "Experiencing connection interruptions. Will try to reestablish communication with Neptune. Internal exception was: RequestsFutureAdapterTimeout\n",
      "Experiencing connection interruptions. Will try to reestablish communication with Neptune. Internal exception was: RequestsFutureAdapterTimeout\n",
      "Communication with Neptune restored!\n",
      "Communication with Neptune restored!\n",
      "Experiencing connection interruptions. Will try to reestablish communication with Neptune. Internal exception was: RequestsFutureAdapterTimeout\n",
      "Experiencing connection interruptions. Will try to reestablish communication with Neptune. Internal exception was: RequestsFutureAdapterTimeout\n",
      "Experiencing connection interruptions. Will try to reestablish communication with Neptune. Internal exception was: RequestsFutureAdapterTimeout\n",
      "Communication with Neptune restored!\n",
      "Communication with Neptune restored!\n",
      "Communication with Neptune restored!\n",
      "Experiencing connection interruptions. Will try to reestablish communication with Neptune. Internal exception was: RequestsFutureAdapterTimeout\n",
      "Experiencing connection interruptions. Will try to reestablish communication with Neptune. Internal exception was: RequestsFutureAdapterTimeout\n",
      "Experiencing connection interruptions. Will try to reestablish communication with Neptune. Internal exception was: RequestsFutureAdapterTimeout\n",
      "Communication with Neptune restored!\n",
      "Communication with Neptune restored!\n",
      "Communication with Neptune restored!\n",
      "Experiencing connection interruptions. Will try to reestablish communication with Neptune. Internal exception was: RequestsFutureAdapterTimeout\n",
      "Experiencing connection interruptions. Will try to reestablish communication with Neptune. Internal exception was: RequestsFutureAdapterTimeout\n",
      "Experiencing connection interruptions. Will try to reestablish communication with Neptune. Internal exception was: RequestsFutureAdapterTimeout\n",
      "Communication with Neptune restored!\n",
      "Communication with Neptune restored!\n",
      "Communication with Neptune restored!\n",
      "Experiencing connection interruptions. Will try to reestablish communication with Neptune. Internal exception was: RequestsFutureAdapterTimeout\n",
      "Experiencing connection interruptions. Will try to reestablish communication with Neptune. Internal exception was: RequestsFutureAdapterTimeout\n",
      "Experiencing connection interruptions. Will try to reestablish communication with Neptune. Internal exception was: RequestsFutureAdapterTimeout\n",
      "Communication with Neptune restored!\n",
      "Communication with Neptune restored!\n",
      "Communication with Neptune restored!\n",
      "Experiencing connection interruptions. Will try to reestablish communication with Neptune. Internal exception was: RequestsFutureAdapterTimeout\n",
      "Experiencing connection interruptions. Will try to reestablish communication with Neptune. Internal exception was: RequestsFutureAdapterTimeout\n",
      "Experiencing connection interruptions. Will try to reestablish communication with Neptune. Internal exception was: RequestsFutureAdapterTimeout\n",
      "Communication with Neptune restored!\n",
      "Communication with Neptune restored!\n",
      "Communication with Neptune restored!\n",
      "Experiencing connection interruptions. Will try to reestablish communication with Neptune. Internal exception was: RequestsFutureAdapterTimeout\n",
      "Experiencing connection interruptions. Will try to reestablish communication with Neptune. Internal exception was: RequestsFutureAdapterTimeout\n",
      "Experiencing connection interruptions. Will try to reestablish communication with Neptune. Internal exception was: RequestsFutureAdapterTimeout\n",
      "Communication with Neptune restored!\n",
      "Communication with Neptune restored!\n",
      "Communication with Neptune restored!\n",
      "Experiencing connection interruptions. Will try to reestablish communication with Neptune. Internal exception was: RequestsFutureAdapterTimeout\n",
      "Experiencing connection interruptions. Will try to reestablish communication with Neptune. Internal exception was: RequestsFutureAdapterTimeout\n",
      "Experiencing connection interruptions. Will try to reestablish communication with Neptune. Internal exception was: RequestsFutureAdapterTimeout\n",
      "Experiencing connection interruptions. Will try to reestablish communication with Neptune. Internal exception was: RequestsFutureAdapterTimeout\n",
      "Communication with Neptune restored!\n",
      "Communication with Neptune restored!\n",
      "Communication with Neptune restored!\n",
      "Communication with Neptune restored!\n",
      "Experiencing connection interruptions. Will try to reestablish communication with Neptune. Internal exception was: RequestsFutureAdapterTimeout\n",
      "Experiencing connection interruptions. Will try to reestablish communication with Neptune. Internal exception was: RequestsFutureAdapterTimeout\n",
      "Experiencing connection interruptions. Will try to reestablish communication with Neptune. Internal exception was: RequestsFutureAdapterTimeout\n",
      "Communication with Neptune restored!\n",
      "Communication with Neptune restored!\n",
      "Experiencing connection interruptions. Will try to reestablish communication with Neptune. Internal exception was: RequestsFutureAdapterTimeout\n",
      "Communication with Neptune restored!\n",
      "Communication with Neptune restored!\n",
      "Experiencing connection interruptions. Will try to reestablish communication with Neptune. Internal exception was: RequestsFutureAdapterTimeout\n",
      "Experiencing connection interruptions. Will try to reestablish communication with Neptune. Internal exception was: RequestsFutureAdapterConnectionError\n",
      "Experiencing connection interruptions. Will try to reestablish communication with Neptune. Internal exception was: RequestsFutureAdapterConnectionError\n",
      "Communication with Neptune restored!\n",
      "Communication with Neptune restored!\n",
      "Experiencing connection interruptions. Will try to reestablish communication with Neptune. Internal exception was: RequestsFutureAdapterTimeout\n",
      "Communication with Neptune restored!\n",
      "Communication with Neptune restored!\n",
      "Experiencing connection interruptions. Will try to reestablish communication with Neptune. Internal exception was: RequestsFutureAdapterTimeout\n",
      "Experiencing connection interruptions. Will try to reestablish communication with Neptune. Internal exception was: RequestsFutureAdapterTimeout\n",
      "Experiencing connection interruptions. Will try to reestablish communication with Neptune. Internal exception was: RequestsFutureAdapterTimeout\n",
      "Experiencing connection interruptions. Will try to reestablish communication with Neptune. Internal exception was: RequestsFutureAdapterTimeout\n",
      "Communication with Neptune restored!\n",
      "Communication with Neptune restored!\n",
      "Communication with Neptune restored!\n",
      "Communication with Neptune restored!\n",
      "Experiencing connection interruptions. Will try to reestablish communication with Neptune. Internal exception was: RequestsFutureAdapterTimeout\n",
      "Experiencing connection interruptions. Will try to reestablish communication with Neptune. Internal exception was: RequestsFutureAdapterTimeout\n",
      "Communication with Neptune restored!\n",
      "Communication with Neptune restored!\n",
      "Experiencing connection interruptions. Will try to reestablish communication with Neptune. Internal exception was: RequestsFutureAdapterTimeout\n",
      "Communication with Neptune restored!\n",
      "Experiencing connection interruptions. Will try to reestablish communication with Neptune. Internal exception was: RequestsFutureAdapterTimeout\n",
      "Communication with Neptune restored!\n",
      "Experiencing connection interruptions. Will try to reestablish communication with Neptune. Internal exception was: RequestsFutureAdapterTimeout\n",
      "Experiencing connection interruptions. Will try to reestablish communication with Neptune. Internal exception was: RequestsFutureAdapterTimeout\n",
      "Experiencing connection interruptions. Will try to reestablish communication with Neptune. Internal exception was: RequestsFutureAdapterTimeout\n",
      "Experiencing connection interruptions. Will try to reestablish communication with Neptune. Internal exception was: RequestsFutureAdapterTimeout\n",
      "Communication with Neptune restored!\n",
      "Communication with Neptune restored!\n",
      "Communication with Neptune restored!\n",
      "Communication with Neptune restored!\n",
      "Experiencing connection interruptions. Will try to reestablish communication with Neptune. Internal exception was: RequestsFutureAdapterTimeout\n",
      "Experiencing connection interruptions. Will try to reestablish communication with Neptune. Internal exception was: RequestsFutureAdapterTimeout\n",
      "Communication with Neptune restored!\n",
      "Communication with Neptune restored!\n",
      "Experiencing connection interruptions. Will try to reestablish communication with Neptune. Internal exception was: RequestsFutureAdapterTimeout\n",
      "Experiencing connection interruptions. Will try to reestablish communication with Neptune. Internal exception was: RequestsFutureAdapterTimeout\n",
      "Experiencing connection interruptions. Will try to reestablish communication with Neptune. Internal exception was: RequestsFutureAdapterTimeout\n",
      "Experiencing connection interruptions. Will try to reestablish communication with Neptune. Internal exception was: RequestsFutureAdapterTimeout\n",
      "Communication with Neptune restored!\n",
      "Communication with Neptune restored!\n",
      "Communication with Neptune restored!\n",
      "Experiencing connection interruptions. Will try to reestablish communication with Neptune. Internal exception was: RequestsFutureAdapterTimeout\n",
      "Communication with Neptune restored!\n",
      "Communication with Neptune restored!\n",
      "Experiencing connection interruptions. Will try to reestablish communication with Neptune. Internal exception was: RequestsFutureAdapterTimeout\n",
      "Communication with Neptune restored!\n",
      "Experiencing connection interruptions. Will try to reestablish communication with Neptune. Internal exception was: RequestsFutureAdapterTimeout\n",
      "Experiencing connection interruptions. Will try to reestablish communication with Neptune. Internal exception was: RequestsFutureAdapterTimeout\n",
      "Experiencing connection interruptions. Will try to reestablish communication with Neptune. Internal exception was: RequestsFutureAdapterTimeout\n",
      "Experiencing connection interruptions. Will try to reestablish communication with Neptune. Internal exception was: RequestsFutureAdapterTimeout\n",
      "Communication with Neptune restored!\n",
      "Communication with Neptune restored!\n",
      "Communication with Neptune restored!\n",
      "Communication with Neptune restored!\n",
      "Experiencing connection interruptions. Will try to reestablish communication with Neptune. Internal exception was: RequestsFutureAdapterTimeout\n",
      "Experiencing connection interruptions. Will try to reestablish communication with Neptune. Internal exception was: RequestsFutureAdapterTimeout\n",
      "Experiencing connection interruptions. Will try to reestablish communication with Neptune. Internal exception was: RequestsFutureAdapterTimeout\n",
      "Communication with Neptune restored!\n",
      "Communication with Neptune restored!\n",
      "Communication with Neptune restored!\n",
      "Experiencing connection interruptions. Will try to reestablish communication with Neptune. Internal exception was: RequestsFutureAdapterTimeout\n",
      "Communication with Neptune restored!\n",
      "Experiencing connection interruptions. Will try to reestablish communication with Neptune. Internal exception was: RequestsFutureAdapterTimeout\n",
      "Experiencing connection interruptions. Will try to reestablish communication with Neptune. Internal exception was: RequestsFutureAdapterTimeout\n",
      "Experiencing connection interruptions. Will try to reestablish communication with Neptune. Internal exception was: RequestsFutureAdapterTimeout\n",
      "Communication with Neptune restored!\n",
      "Communication with Neptune restored!\n",
      "Communication with Neptune restored!\n",
      "Experiencing connection interruptions. Will try to reestablish communication with Neptune. Internal exception was: RequestsFutureAdapterTimeout\n",
      "Experiencing connection interruptions. Will try to reestablish communication with Neptune. Internal exception was: RequestsFutureAdapterTimeout\n",
      "Communication with Neptune restored!\n",
      "Communication with Neptune restored!\n",
      "Experiencing connection interruptions. Will try to reestablish communication with Neptune. Internal exception was: RequestsFutureAdapterTimeout\n",
      "Communication with Neptune restored!\n",
      "Experiencing connection interruptions. Will try to reestablish communication with Neptune. Internal exception was: RequestsFutureAdapterTimeout\n",
      "Experiencing connection interruptions. Will try to reestablish communication with Neptune. Internal exception was: RequestsFutureAdapterTimeout\n",
      "Experiencing connection interruptions. Will try to reestablish communication with Neptune. Internal exception was: RequestsFutureAdapterTimeout\n",
      "Experiencing connection interruptions. Will try to reestablish communication with Neptune. Internal exception was: RequestsFutureAdapterTimeout\n",
      "Communication with Neptune restored!\n",
      "Communication with Neptune restored!\n",
      "Communication with Neptune restored!\n",
      "Communication with Neptune restored!\n",
      "Experiencing connection interruptions. Will try to reestablish communication with Neptune. Internal exception was: RequestsFutureAdapterTimeout\n",
      "Experiencing connection interruptions. Will try to reestablish communication with Neptune. Internal exception was: RequestsFutureAdapterTimeout\n",
      "Communication with Neptune restored!\n",
      "Communication with Neptune restored!\n",
      "Experiencing connection interruptions. Will try to reestablish communication with Neptune. Internal exception was: RequestsFutureAdapterTimeout\n",
      "Experiencing connection interruptions. Will try to reestablish communication with Neptune. Internal exception was: RequestsFutureAdapterTimeout\n",
      "Communication with Neptune restored!\n",
      "Communication with Neptune restored!\n",
      "Experiencing connection interruptions. Will try to reestablish communication with Neptune. Internal exception was: RequestsFutureAdapterTimeout\n",
      "Experiencing connection interruptions. Will try to reestablish communication with Neptune. Internal exception was: RequestsFutureAdapterTimeout\n",
      "Experiencing connection interruptions. Will try to reestablish communication with Neptune. Internal exception was: RequestsFutureAdapterTimeout\n",
      "Experiencing connection interruptions. Will try to reestablish communication with Neptune. Internal exception was: RequestsFutureAdapterTimeout\n",
      "Communication with Neptune restored!\n",
      "Communication with Neptune restored!\n",
      "Communication with Neptune restored!\n",
      "Communication with Neptune restored!\n",
      "Experiencing connection interruptions. Will try to reestablish communication with Neptune. Internal exception was: RequestsFutureAdapterTimeout\n",
      "Experiencing connection interruptions. Will try to reestablish communication with Neptune. Internal exception was: RequestsFutureAdapterTimeout\n",
      "Communication with Neptune restored!\n",
      "Communication with Neptune restored!\n",
      "Experiencing connection interruptions. Will try to reestablish communication with Neptune. Internal exception was: RequestsFutureAdapterTimeout\n",
      "Communication with Neptune restored!\n",
      "Experiencing connection interruptions. Will try to reestablish communication with Neptune. Internal exception was: RequestsFutureAdapterTimeout\n",
      "Experiencing connection interruptions. Will try to reestablish communication with Neptune. Internal exception was: RequestsFutureAdapterTimeout\n",
      "Experiencing connection interruptions. Will try to reestablish communication with Neptune. Internal exception was: RequestsFutureAdapterTimeout\n",
      "Communication with Neptune restored!\n",
      "Communication with Neptune restored!\n",
      "Communication with Neptune restored!\n",
      "Experiencing connection interruptions. Will try to reestablish communication with Neptune. Internal exception was: RequestsFutureAdapterTimeout\n",
      "Experiencing connection interruptions. Will try to reestablish communication with Neptune. Internal exception was: RequestsFutureAdapterTimeout\n",
      "Experiencing connection interruptions. Will try to reestablish communication with Neptune. Internal exception was: RequestsFutureAdapterTimeout\n",
      "Communication with Neptune restored!\n",
      "Communication with Neptune restored!\n",
      "Communication with Neptune restored!\n",
      "Experiencing connection interruptions. Will try to reestablish communication with Neptune. Internal exception was: RequestsFutureAdapterTimeout\n",
      "Experiencing connection interruptions. Will try to reestablish communication with Neptune. Internal exception was: RequestsFutureAdapterTimeout\n",
      "Experiencing connection interruptions. Will try to reestablish communication with Neptune. Internal exception was: RequestsFutureAdapterTimeout\n",
      "Experiencing connection interruptions. Will try to reestablish communication with Neptune. Internal exception was: RequestsFutureAdapterTimeout\n",
      "Communication with Neptune restored!\n",
      "Communication with Neptune restored!\n",
      "Communication with Neptune restored!\n",
      "Communication with Neptune restored!\n",
      "Experiencing connection interruptions. Will try to reestablish communication with Neptune. Internal exception was: RequestsFutureAdapterTimeout\n",
      "Experiencing connection interruptions. Will try to reestablish communication with Neptune. Internal exception was: RequestsFutureAdapterTimeout\n",
      "Experiencing connection interruptions. Will try to reestablish communication with Neptune. Internal exception was: RequestsFutureAdapterTimeout\n",
      "Communication with Neptune restored!\n",
      "Communication with Neptune restored!\n",
      "Communication with Neptune restored!\n",
      "Experiencing connection interruptions. Will try to reestablish communication with Neptune. Internal exception was: RequestsFutureAdapterTimeout\n",
      "Communication with Neptune restored!\n",
      "Experiencing connection interruptions. Will try to reestablish communication with Neptune. Internal exception was: RequestsFutureAdapterTimeout\n",
      "Communication with Neptune restored!\n",
      "Experiencing connection interruptions. Will try to reestablish communication with Neptune. Internal exception was: RequestsFutureAdapterTimeout\n",
      "Experiencing connection interruptions. Will try to reestablish communication with Neptune. Internal exception was: RequestsFutureAdapterTimeout\n",
      "Experiencing connection interruptions. Will try to reestablish communication with Neptune. Internal exception was: RequestsFutureAdapterTimeout\n",
      "Experiencing connection interruptions. Will try to reestablish communication with Neptune. Internal exception was: RequestsFutureAdapterTimeout\n",
      "Communication with Neptune restored!\n",
      "Communication with Neptune restored!\n",
      "Communication with Neptune restored!\n",
      "Communication with Neptune restored!\n",
      "Experiencing connection interruptions. Will try to reestablish communication with Neptune. Internal exception was: RequestsFutureAdapterTimeout\n",
      "Experiencing connection interruptions. Will try to reestablish communication with Neptune. Internal exception was: RequestsFutureAdapterTimeout\n",
      "Communication with Neptune restored!\n",
      "Communication with Neptune restored!\n",
      "Experiencing connection interruptions. Will try to reestablish communication with Neptune. Internal exception was: RequestsFutureAdapterTimeout\n",
      "Communication with Neptune restored!\n"
     ]
    }
   ],
   "source": [
    "# ADD EMBEDING AND CONFUSION TABLE"
   ]
  },
  {
   "cell_type": "code",
   "execution_count": null,
   "metadata": {},
   "outputs": [],
   "source": []
  }
 ],
 "metadata": {
  "interpreter": {
   "hash": "a28f15e7b4b39adb7072b19439694c39c45d283f7f075ccd030e70179c18cdfd"
  },
  "kernelspec": {
   "display_name": "Python 3.7.11 ('diplomka')",
   "language": "python",
   "name": "python3"
  },
  "language_info": {
   "codemirror_mode": {
    "name": "ipython",
    "version": 3
   },
   "file_extension": ".py",
   "mimetype": "text/x-python",
   "name": "python",
   "nbconvert_exporter": "python",
   "pygments_lexer": "ipython3",
   "version": "3.7.11"
  },
  "orig_nbformat": 4
 },
 "nbformat": 4,
 "nbformat_minor": 2
}
