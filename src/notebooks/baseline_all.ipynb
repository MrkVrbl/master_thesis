{
 "cells": [
  {
   "cell_type": "markdown",
   "metadata": {},
   "source": [
    "## Baseline with different train negative sets"
   ]
  },
  {
   "cell_type": "code",
   "execution_count": 2,
   "metadata": {},
   "outputs": [],
   "source": [
    "import os\n",
    "from pathlib import Path\n",
    "import pandas as pd\n",
    "from models.baseline import baseline, baseline_sklearn\n",
    "from utils.utils import get_gc_count_from_ohe"
   ]
  },
  {
   "cell_type": "code",
   "execution_count": 2,
   "metadata": {},
   "outputs": [],
   "source": [
    "rbp24_path = Path(\"../Data/rbp24/processed\")\n",
    "rbp31_path =  Path(\"../Data/rbp31\")\n",
    "out_rbp24 = Path(\"../Data/outputs/rbp24_baseline_results.tsv\")\n",
    "out_rbp31 = Path(\"../Data/outputs/rbp31_baseline_results.tsv\")"
   ]
  },
  {
   "cell_type": "code",
   "execution_count": 5,
   "metadata": {},
   "outputs": [],
   "source": [
    "results = []\n",
    "for root, dirs, files in os.walk(rbp24_path):\n",
    "    if len(dirs) == 2:\n",
    "        protein_name = root.split(\"/\")[-1]\n",
    "\n",
    "    if root.endswith(\"test\"):\n",
    "        test_df = pd.read_csv(root + \"/original.tsv.gz\", delimiter=\"\\t\", index_col=0, compression=\"gzip\")\n",
    "\n",
    "    if root.endswith(\"train\"):\n",
    "        train_dfs = {}\n",
    "        for file in files:\n",
    "            if file.endswith(\"tsv.gz\"):\n",
    "                train_dfs[file.split(\".\")[0]] = pd.read_csv(root + \"/\" + file, delimiter=\"\\t\", index_col=0, compression=\"gzip\")\n",
    "\n",
    "        posGC, negGC = get_gc_count_from_ohe(train_dfs['original'])\n",
    "        for data_type, train_df in train_dfs.items():\n",
    "            test_acc, test_auc, _ = baseline_sklearn(train_df, test_df)\n",
    "            results.append([protein_name, posGC, negGC, test_acc.item(), test_auc.item(), data_type])\n",
    "\n",
    "results_df = pd.DataFrame(results, columns=[\"Protein\", \"PosGC\", \"NegGC\", \"TestACC\", \"TestAUC\", \"DataType\"])\n",
    "results_df.to_csv(out_rbp24, sep='\\t')"
   ]
  },
  {
   "cell_type": "markdown",
   "metadata": {},
   "source": [
    "### Baseline with different test sets"
   ]
  },
  {
   "cell_type": "code",
   "execution_count": 3,
   "metadata": {},
   "outputs": [],
   "source": [
    "rbp24_path = Path(\"../Data/rbp24/processed\")\n",
    "rbp31_path =  Path(\"../Data/rbp31\")\n",
    "out_rbp24 = Path(\"../Data/outputs/rbp24_baseline_evals_new.tsv\")\n",
    "out_rbp31 = Path(\"../Data/outputs/rbp31_baseline_evals.tsv\")"
   ]
  },
  {
   "cell_type": "code",
   "execution_count": 6,
   "metadata": {},
   "outputs": [],
   "source": [
    "results = []\n",
    "for root, dirs, files in os.walk(rbp24_path):\n",
    "    if len(dirs) == 2:\n",
    "        protein_name = root.split(\"/\")[-1]\n",
    "\n",
    "    if root.endswith(\"test\"):\n",
    "        test_dfs = {}\n",
    "        for file in files:\n",
    "            if file.endswith(\"tsv.gz\"):\n",
    "                #test_dfs[file.split(\".\")[0]] = pd.read_csv(root + \"/\" + file, delimiter=\"\\t\", index_col=0, compression=\"gzip\")\n",
    "                test_dfs[\"original\"] = pd.read_csv(root + \"/original.tsv.gz\", delimiter=\"\\t\", index_col=0, compression=\"gzip\")\n",
    "                test_dfs[\"distributed\"] = pd.read_csv(root + \"/dist_neg_orig_pos.tsv.gz\", delimiter=\"\\t\", index_col=0, compression=\"gzip\")\n",
    "\n",
    "    if root.endswith(\"train\"):\n",
    "        train_df = pd.read_csv(root + \"/original.tsv.gz\", delimiter=\"\\t\", index_col=0, compression=\"gzip\")\n",
    "\n",
    "        train_posGC, train_negGC = get_gc_count_from_ohe(train_df)\n",
    "       \n",
    "        for data_type, test_df in test_dfs.items():\n",
    "            test_posGC, test_negGC = get_gc_count_from_ohe(test_df)\n",
    "            test_acc, test_auc, _ = baseline_sklearn(train_df, test_df)\n",
    "            results.append([protein_name, train_posGC, train_negGC, test_posGC, test_negGC, test_acc.item(), test_auc.item(), data_type])\n",
    "\n",
    "results_df = pd.DataFrame(results, columns=[\"Protein\", \"Train_PosGC\", \"Train_NegGC\", \"Test_PosGC\", \"Test_NegGC\", \"TestACC\", \"TestAUC\", \"DataType\"])\n",
    "results_df.to_csv(out_rbp24, sep='\\t')"
   ]
  },
  {
   "cell_type": "markdown",
   "metadata": {},
   "source": [
    "### Lets see the whole workflow for single rbp protein"
   ]
  },
  {
   "cell_type": "code",
   "execution_count": 9,
   "metadata": {},
   "outputs": [
    {
     "data": {
      "text/plain": [
       "{'../Data/rbp24/processed/positives_train': ['ALKBH5_Baltz2012.tsv',\n",
       "  'C17ORF85_Baltz2012.tsv',\n",
       "  'C22ORF28_Baltz2012.tsv',\n",
       "  'CAPRIN1_Baltz2012.tsv',\n",
       "  'CLIPSEQ_AGO2.tsv',\n",
       "  'CLIPSEQ_ELAVL1.tsv',\n",
       "  'CLIPSEQ_SFRS1.tsv',\n",
       "  'ICLIP_HNRNPC.tsv',\n",
       "  'ICLIP_TDP43.tsv',\n",
       "  'ICLIP_TIA1.tsv',\n",
       "  'ICLIP_TIAL1.tsv',\n",
       "  'PARCLIP_AGO1234.tsv',\n",
       "  'PARCLIP_ELAVL1.tsv',\n",
       "  'PARCLIP_ELAVL1A.tsv',\n",
       "  'PARCLIP_EWSR1.tsv',\n",
       "  'PARCLIP_FUS.tsv',\n",
       "  'PARCLIP_HUR.tsv',\n",
       "  'PARCLIP_IGF2BP123.tsv',\n",
       "  'PARCLIP_MOV10_Sievers.tsv',\n",
       "  'PARCLIP_PUM2.tsv',\n",
       "  'PARCLIP_QKI.tsv',\n",
       "  'PARCLIP_TAF15.tsv',\n",
       "  'ZC3H7B_Baltz2012.tsv'],\n",
       " '../Data/rbp24/processed/negatives_ls': ['ALKBH5_Baltz2012.tsv',\n",
       "  'C17ORF85_Baltz2012.tsv',\n",
       "  'C22ORF28_Baltz2012.tsv',\n",
       "  'CAPRIN1_Baltz2012.tsv',\n",
       "  'CLIPSEQ_AGO2.tsv',\n",
       "  'CLIPSEQ_ELAVL1.tsv',\n",
       "  'CLIPSEQ_SFRS1.tsv',\n",
       "  'ICLIP_HNRNPC.tsv',\n",
       "  'ICLIP_TDP43.tsv',\n",
       "  'ICLIP_TIA1.tsv',\n",
       "  'ICLIP_TIAL1.tsv',\n",
       "  'PARCLIP_AGO1234.tsv',\n",
       "  'PARCLIP_ELAVL1.tsv',\n",
       "  'PARCLIP_ELAVL1A.tsv',\n",
       "  'PARCLIP_EWSR1.tsv',\n",
       "  'PARCLIP_FUS.tsv',\n",
       "  'PARCLIP_HUR.tsv',\n",
       "  'PARCLIP_IGF2BP123.tsv',\n",
       "  'PARCLIP_MOV10_Sievers.tsv',\n",
       "  'PARCLIP_PUM2.tsv',\n",
       "  'PARCLIP_QKI.tsv',\n",
       "  'PARCLIP_TAF15.tsv',\n",
       "  'ZC3H7B_Baltz2012.tsv'],\n",
       " '../Data/rbp24/processed/negatives_train': ['ALKBH5_Baltz2012.tsv',\n",
       "  'C17ORF85_Baltz2012.tsv',\n",
       "  'C22ORF28_Baltz2012.tsv',\n",
       "  'CAPRIN1_Baltz2012.tsv',\n",
       "  'CLIPSEQ_AGO2.tsv',\n",
       "  'CLIPSEQ_ELAVL1.tsv',\n",
       "  'CLIPSEQ_SFRS1.tsv',\n",
       "  'ICLIP_HNRNPC.tsv',\n",
       "  'ICLIP_TDP43.tsv',\n",
       "  'ICLIP_TIA1.tsv',\n",
       "  'ICLIP_TIAL1.tsv',\n",
       "  'PARCLIP_AGO1234.tsv',\n",
       "  'PARCLIP_ELAVL1.tsv',\n",
       "  'PARCLIP_ELAVL1A.tsv',\n",
       "  'PARCLIP_EWSR1.tsv',\n",
       "  'PARCLIP_FUS.tsv',\n",
       "  'PARCLIP_HUR.tsv',\n",
       "  'PARCLIP_IGF2BP123.tsv',\n",
       "  'PARCLIP_MOV10_Sievers.tsv',\n",
       "  'PARCLIP_PUM2.tsv',\n",
       "  'PARCLIP_QKI.tsv',\n",
       "  'PARCLIP_TAF15.tsv',\n",
       "  'ZC3H7B_Baltz2012.tsv'],\n",
       " '../Data/rbp24/processed/positives_ls': ['ALKBH5_Baltz2012.tsv',\n",
       "  'C17ORF85_Baltz2012.tsv',\n",
       "  'C22ORF28_Baltz2012.tsv',\n",
       "  'CAPRIN1_Baltz2012.tsv',\n",
       "  'CLIPSEQ_AGO2.tsv',\n",
       "  'CLIPSEQ_ELAVL1.tsv',\n",
       "  'CLIPSEQ_SFRS1.tsv',\n",
       "  'ICLIP_HNRNPC.tsv',\n",
       "  'ICLIP_TDP43.tsv',\n",
       "  'ICLIP_TIA1.tsv',\n",
       "  'ICLIP_TIAL1.tsv',\n",
       "  'PARCLIP_AGO1234.tsv',\n",
       "  'PARCLIP_ELAVL1.tsv',\n",
       "  'PARCLIP_ELAVL1A.tsv',\n",
       "  'PARCLIP_EWSR1.tsv',\n",
       "  'PARCLIP_FUS.tsv',\n",
       "  'PARCLIP_HUR.tsv',\n",
       "  'PARCLIP_IGF2BP123.tsv',\n",
       "  'PARCLIP_MOV10_Sievers.tsv',\n",
       "  'PARCLIP_PUM2.tsv',\n",
       "  'PARCLIP_QKI.tsv',\n",
       "  'PARCLIP_TAF15.tsv',\n",
       "  'ZC3H7B_Baltz2012.tsv']}"
      ]
     },
     "execution_count": 9,
     "metadata": {},
     "output_type": "execute_result"
    }
   ],
   "source": [
    "dir_dict, entry_count = process_dataset(rbp_dir_path=rbp_dir_path, prism_dir_path=prism_dir_path, dataset='rbp24')\n",
    "content = []\n",
    "count = 1\n",
    "\n",
    "dir_dict"
   ]
  },
  {
   "cell_type": "code",
   "execution_count": 22,
   "metadata": {},
   "outputs": [
    {
     "name": "stdout",
     "output_type": "stream",
     "text": [
      "Protein name: PARCLIP_QKI.tsv\n"
     ]
    }
   ],
   "source": [
    "i = 20\n",
    "protein_name = dir_dict['../Data/rbp24/processed/negatives_ls'][i]\n",
    "print(f\"Protein name: {protein_name}\")"
   ]
  },
  {
   "cell_type": "code",
   "execution_count": 23,
   "metadata": {},
   "outputs": [
    {
     "data": {
      "text/html": [
       "<div>\n",
       "<style scoped>\n",
       "    .dataframe tbody tr th:only-of-type {\n",
       "        vertical-align: middle;\n",
       "    }\n",
       "\n",
       "    .dataframe tbody tr th {\n",
       "        vertical-align: top;\n",
       "    }\n",
       "\n",
       "    .dataframe thead th {\n",
       "        text-align: right;\n",
       "    }\n",
       "</style>\n",
       "<table border=\"1\" class=\"dataframe\">\n",
       "  <thead>\n",
       "    <tr style=\"text-align: right;\">\n",
       "      <th></th>\n",
       "      <th>name</th>\n",
       "      <th>seq</th>\n",
       "      <th>label</th>\n",
       "    </tr>\n",
       "  </thead>\n",
       "  <tbody>\n",
       "    <tr>\n",
       "      <th>0</th>\n",
       "      <td>chr1:1102484-1102612()</td>\n",
       "      <td>CAGCTCGGGCAGCCGTGGCCATCTTACTGGGCAGCATTGGATGGAG...</td>\n",
       "      <td>1</td>\n",
       "    </tr>\n",
       "    <tr>\n",
       "      <th>1</th>\n",
       "      <td>chr1:1103242-1103370()</td>\n",
       "      <td>CCGGGCCCCTGTGAGCATCTTACCGGACAGTGCTGGATTTCCCAGC...</td>\n",
       "      <td>1</td>\n",
       "    </tr>\n",
       "    <tr>\n",
       "      <th>2</th>\n",
       "      <td>chr1:1104381-1104509()</td>\n",
       "      <td>CACCGCCGGCCGATGGGCGTCTTACCAGACATGGTTAGACCTGGCC...</td>\n",
       "      <td>1</td>\n",
       "    </tr>\n",
       "    <tr>\n",
       "      <th>3</th>\n",
       "      <td>chr1:2241351-2241479()</td>\n",
       "      <td>CTTTAAGTCAGGAGTCACAAATGACTTTTTTTTTTCAATTAAGGAA...</td>\n",
       "      <td>1</td>\n",
       "    </tr>\n",
       "    <tr>\n",
       "      <th>4</th>\n",
       "      <td>chr1:3762198-3762326()</td>\n",
       "      <td>TATAACAAACTCTGACCTACACTGTTatcaaatgggatgatgtata...</td>\n",
       "      <td>1</td>\n",
       "    </tr>\n",
       "  </tbody>\n",
       "</table>\n",
       "</div>"
      ],
      "text/plain": [
       "                     name                                                seq  \\\n",
       "0  chr1:1102484-1102612()  CAGCTCGGGCAGCCGTGGCCATCTTACTGGGCAGCATTGGATGGAG...   \n",
       "1  chr1:1103242-1103370()  CCGGGCCCCTGTGAGCATCTTACCGGACAGTGCTGGATTTCCCAGC...   \n",
       "2  chr1:1104381-1104509()  CACCGCCGGCCGATGGGCGTCTTACCAGACATGGTTAGACCTGGCC...   \n",
       "3  chr1:2241351-2241479()  CTTTAAGTCAGGAGTCACAAATGACTTTTTTTTTTCAATTAAGGAA...   \n",
       "4  chr1:3762198-3762326()  TATAACAAACTCTGACCTACACTGTTatcaaatgggatgatgtata...   \n",
       "\n",
       "   label  \n",
       "0      1  \n",
       "1      1  \n",
       "2      1  \n",
       "3      1  \n",
       "4      1  "
      ]
     },
     "execution_count": 23,
     "metadata": {},
     "output_type": "execute_result"
    }
   ],
   "source": [
    "dfs = csv_to_df(dir_dict, i)\n",
    "pos_train, neg_train, pos_ls, neg_ls = dfs\n",
    "pos_train.head()"
   ]
  },
  {
   "cell_type": "code",
   "execution_count": 24,
   "metadata": {},
   "outputs": [
    {
     "data": {
      "text/html": [
       "<div>\n",
       "<style scoped>\n",
       "    .dataframe tbody tr th:only-of-type {\n",
       "        vertical-align: middle;\n",
       "    }\n",
       "\n",
       "    .dataframe tbody tr th {\n",
       "        vertical-align: top;\n",
       "    }\n",
       "\n",
       "    .dataframe thead th {\n",
       "        text-align: right;\n",
       "    }\n",
       "</style>\n",
       "<table border=\"1\" class=\"dataframe\">\n",
       "  <thead>\n",
       "    <tr style=\"text-align: right;\">\n",
       "      <th></th>\n",
       "      <th>name</th>\n",
       "      <th>seq</th>\n",
       "      <th>label</th>\n",
       "    </tr>\n",
       "  </thead>\n",
       "  <tbody>\n",
       "    <tr>\n",
       "      <th>0</th>\n",
       "      <td>chr1:3661249-3661377()</td>\n",
       "      <td>CTAGTAAGAGCATGTCCAAACCTGGACACACCAAAGGTGAGCCAGG...</td>\n",
       "      <td>0</td>\n",
       "    </tr>\n",
       "    <tr>\n",
       "      <th>1</th>\n",
       "      <td>chr1:3745688-3745816()</td>\n",
       "      <td>AAACTAACCTAAAAAACCAAAAGGAATCAAGACGCTCATTTGCATA...</td>\n",
       "      <td>0</td>\n",
       "    </tr>\n",
       "    <tr>\n",
       "      <th>2</th>\n",
       "      <td>chr1:6650934-6651062()</td>\n",
       "      <td>GGGCGTCCTTTATTACATACGCGTCTCTGAAGTCATATAAATATAG...</td>\n",
       "      <td>0</td>\n",
       "    </tr>\n",
       "    <tr>\n",
       "      <th>3</th>\n",
       "      <td>chr1:6659475-6659603()</td>\n",
       "      <td>CACACGCAGTCATAGAGCCGGGAGCCATCGGACCCACCTGCCAGGA...</td>\n",
       "      <td>0</td>\n",
       "    </tr>\n",
       "    <tr>\n",
       "      <th>4</th>\n",
       "      <td>chr1:6747052-6747180()</td>\n",
       "      <td>GTCCATATGTTCCCCAATAATCTGATGGAAAGAAACTGCATCAGCT...</td>\n",
       "      <td>0</td>\n",
       "    </tr>\n",
       "  </tbody>\n",
       "</table>\n",
       "</div>"
      ],
      "text/plain": [
       "                     name                                                seq  \\\n",
       "0  chr1:3661249-3661377()  CTAGTAAGAGCATGTCCAAACCTGGACACACCAAAGGTGAGCCAGG...   \n",
       "1  chr1:3745688-3745816()  AAACTAACCTAAAAAACCAAAAGGAATCAAGACGCTCATTTGCATA...   \n",
       "2  chr1:6650934-6651062()  GGGCGTCCTTTATTACATACGCGTCTCTGAAGTCATATAAATATAG...   \n",
       "3  chr1:6659475-6659603()  CACACGCAGTCATAGAGCCGGGAGCCATCGGACCCACCTGCCAGGA...   \n",
       "4  chr1:6747052-6747180()  GTCCATATGTTCCCCAATAATCTGATGGAAAGAAACTGCATCAGCT...   \n",
       "\n",
       "   label  \n",
       "0      0  \n",
       "1      0  \n",
       "2      0  \n",
       "3      0  \n",
       "4      0  "
      ]
     },
     "execution_count": 24,
     "metadata": {},
     "output_type": "execute_result"
    }
   ],
   "source": [
    "neg_train.head()"
   ]
  },
  {
   "cell_type": "code",
   "execution_count": 25,
   "metadata": {},
   "outputs": [
    {
     "name": "stdout",
     "output_type": "stream",
     "text": [
      "    Augmenting negatives...\n"
     ]
    },
    {
     "data": {
      "text/plain": [
       "dict_keys(['original', 'shuffled', 'sameGC'])"
      ]
     },
     "execution_count": 25,
     "metadata": {},
     "output_type": "execute_result"
    }
   ],
   "source": [
    "datasets = augment_negatives(dfs)\n",
    "datasets.keys()"
   ]
  },
  {
   "cell_type": "markdown",
   "metadata": {},
   "source": [
    "#### Explore given datasets with new negatives"
   ]
  },
  {
   "cell_type": "code",
   "execution_count": 26,
   "metadata": {},
   "outputs": [
    {
     "name": "stdout",
     "output_type": "stream",
     "text": [
      "TGGTTTATTTAACTCAGGATCTGCCATTTGTCTTCTGTGTTTTGCACTCACCTTTTTAACTTCCTAACACCACATTTATAATTATAGATTTTTCTTTCTATGTCCTTCCTTATGTCTGCACCTTCTGC\n",
      "TGGTTTATTTAACTCAGGATCTGCCATTTGTCTTCTGTGTTTTGCACTCACCTTTTTAACTTCCTAACACCACATTTATAATTATAGATTTTTCTTTCTATGTCCTTCCTTATGTCTGCACCTTCTGC\n",
      "TGGTTTATTTAACTCAGGATCTGCCATTTGTCTTCTGTGTTTTGCACTCACCTTTTTAACTTCCTAACACCACATTTATAATTATAGATTTTTCTTTCTATGTCCTTCCTTATGTCTGCACCTTCTGC\n"
     ]
    }
   ],
   "source": [
    "#Sequences in Test sets should be same throughout all datasets\n",
    "print(datasets['original'][1].iloc[2].seq.upper())\n",
    "print(datasets['shuffled'][1].iloc[2].seq.upper())\n",
    "print(datasets['sameGC'][1].iloc[2].seq.upper())"
   ]
  },
  {
   "cell_type": "code",
   "execution_count": 35,
   "metadata": {},
   "outputs": [
    {
     "name": "stdout",
     "output_type": "stream",
     "text": [
      "4915    CAGCTCGGGCAGCCGTGGCCATCTTACTGGGCAGCATTGGATGGAG...\n",
      "Name: seq, dtype: object\n",
      "10009    CAGCTCGGGCAGCCGTGGCCATCTTACTGGGCAGCATTGGATGGAG...\n",
      "Name: seq, dtype: object\n",
      "148    TGGGGTCGGCGTCATTGACCTGGGCAGCCCCCCCGAGCCCGGGCGA...\n",
      "Name: seq, dtype: object\n"
     ]
    }
   ],
   "source": [
    "#In training sets positives should be same in original and sameGC datasets, shuffled should be different\n",
    "print(datasets['original'][0][datasets['original'][0].name=='chr1:1102484-1102612()'].seq)\n",
    "print(datasets['sameGC'][0][datasets['sameGC'][0].name=='chr1:1102484-1102612()'].seq)\n",
    "print(datasets['shuffled'][0][datasets['shuffled'][0].name=='chr1:1102484-1102612()'].seq)"
   ]
  },
  {
   "cell_type": "code",
   "execution_count": 28,
   "metadata": {},
   "outputs": [
    {
     "name": "stdout",
     "output_type": "stream",
     "text": [
      "4263    AAACTAACCTAAAAAACCAAAAGGAATCAAGACGCTCATTTGCATA...\n",
      "Name: seq, dtype: object\n",
      "9724    GCACCACCGTCTGGTAAGAGCCTCGGGCATCCTGTTGTCGAAGGCA...\n",
      "Name: seq, dtype: object\n",
      "12226    ATAACGATTCTATTGAAAGACACAGAGTTTAAAGAGTATCTTGGTA...\n",
      "Name: seq, dtype: object\n"
     ]
    }
   ],
   "source": [
    "#Negatives in training set should be different in all datasets\n",
    "print(datasets['original'][0][datasets['original'][0].name=='chr1:3745688-3745816()'].seq)\n",
    "print(datasets['sameGC'][0][datasets['sameGC'][0].name=='chr1:3745688-3745816()'].seq)\n",
    "print(datasets['shuffled'][0][datasets['shuffled'][0].name=='chr1:3745688-3745816()'].seq)"
   ]
  },
  {
   "cell_type": "code",
   "execution_count": null,
   "metadata": {},
   "outputs": [],
   "source": []
  }
 ],
 "metadata": {
  "interpreter": {
   "hash": "1ce6ef6cae90fa24a5d611089f848696e2b68a24b2c04701dc1cb8d81e2a4fd7"
  },
  "kernelspec": {
   "display_name": "Python 3.7.11 64-bit ('diplomka': conda)",
   "language": "python",
   "name": "python3"
  },
  "language_info": {
   "codemirror_mode": {
    "name": "ipython",
    "version": 3
   },
   "file_extension": ".py",
   "mimetype": "text/x-python",
   "name": "python",
   "nbconvert_exporter": "python",
   "pygments_lexer": "ipython3",
   "version": "3.7.11"
  },
  "orig_nbformat": 4
 },
 "nbformat": 4,
 "nbformat_minor": 2
}
